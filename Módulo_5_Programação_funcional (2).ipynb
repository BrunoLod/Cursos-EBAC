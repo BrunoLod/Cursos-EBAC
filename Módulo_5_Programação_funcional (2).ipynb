{
  "nbformat": 4,
  "nbformat_minor": 0,
  "metadata": {
    "colab": {
      "provenance": []
    },
    "kernelspec": {
      "name": "python3",
      "display_name": "Python 3"
    },
    "language_info": {
      "name": "python"
    }
  },
  "cells": [
    {
      "cell_type": "markdown",
      "source": [
        "# Função Lambda:\n",
        "\n"
      ],
      "metadata": {
        "id": "mWHTu9YL2AHQ"
      }
    },
    {
      "cell_type": "markdown",
      "source": [
        "  Constitui-se de uma função anônima com bloco de código enxuto que pode ser salva em uma variável. Em geral, é utilizado com outros métodos funcionais como map, filter e reduce."
      ],
      "metadata": {
        "id": "-KkB24rU2HL4"
      }
    },
    {
      "cell_type": "markdown",
      "source": [
        "Para a criação da função lambda, fazemos:\n",
        "\n",
        "variável = *lambda* params: expressão\n",
        "\n",
        "Obs: params indica o parâmetro que queremos passar, como pode-se ver no exemplo abaixo."
      ],
      "metadata": {
        "id": "SQOmLapw4uUX"
      }
    },
    {
      "cell_type": "code",
      "execution_count": null,
      "metadata": {
        "id": "DMnYvp8nrpZH"
      },
      "outputs": [],
      "source": [
        "extrair_provedor_email = lambda emmai: email.split(sep=\"@\")\n",
        "\n",
        "# Como pode-se ver abaixo, o método split toma a string da variável enviada\n",
        "# e separa os seus termos armazenando numa lista, representando cada qual\n",
        "# um valor correspondente. Assim, se colocarmos [-1] ao lado direito do\n",
        "# (sep=\"@\"), iremos selecionar apenas o último termo, que aqui seria o provedor\n",
        "# do email."
      ]
    },
    {
      "cell_type": "code",
      "source": [
        "email = \"tinho_lod@gmail.com\"\n",
        "\n",
        "provedor_email = extrair_provedor_email(email)\n",
        "print(provedor_email)"
      ],
      "metadata": {
        "colab": {
          "base_uri": "https://localhost:8080/"
        },
        "id": "PWb15ZqJ55c-",
        "outputId": "8da0559c-0e11-489d-a062-0620b364d990"
      },
      "execution_count": null,
      "outputs": [
        {
          "output_type": "stream",
          "name": "stdout",
          "text": [
            "['tinho_lod', 'gmail.com']\n"
          ]
        }
      ]
    },
    {
      "cell_type": "code",
      "source": [
        "extrair_provedor_email = lambda emmai: email.split(sep=\"@\")[-1]\n",
        "\n",
        "email = \"tinho_lod@gmail.com\"\n",
        "\n",
        "provedor_email = extrair_provedor_email(email)\n",
        "print(provedor_email)\n",
        "\n",
        "# Como pode-se ver, retorna apenas o provedor do email."
      ],
      "metadata": {
        "colab": {
          "base_uri": "https://localhost:8080/"
        },
        "id": "2_Mw81HN6KQ3",
        "outputId": "b8453b21-1d60-4c45-de44-72fe2d2a2fcf"
      },
      "execution_count": null,
      "outputs": [
        {
          "output_type": "stream",
          "name": "stdout",
          "text": [
            "gmail.com\n"
          ]
        }
      ]
    },
    {
      "cell_type": "markdown",
      "source": [
        "Ainda, podemos usar a função lambda com estruturas condicionais (if e else).\n"
      ],
      "metadata": {
        "id": "Q8YVdj877TyD"
      }
    },
    {
      "cell_type": "code",
      "source": [
        "# o sinal % para o python busca exprimir que determinado quando\n",
        "# dividido por dois apresenta em seu quociente resto 0. Todos os\n",
        "# os números pares apresentam resto 0 nessa relação.\n",
        "\n",
        "numero_e_par = lambda numero: True if numero % 2 == 0 else False\n",
        "\n",
        "# Definindo um alcançe, range, de 9 números - lembrando que o método\n",
        "# range sempre vai até o penúltimo valor selecionado, por isso, aqui,\n",
        "# só iremos até o valor 9.\n",
        "\n",
        "numeros = range(0, 10)\n",
        "\n",
        "# Criação de um ciclo for de número que \"caminha\" em todos os elementos\n",
        "# do elementos estabelecidos no alcançe.\n",
        "\n",
        "for numero in numeros:\n",
        "  if numero_e_par(numero) == True:\n",
        "    print(f\"O número {numero} é par!\")\n",
        "  else:\n",
        "    print(f\"O número {numero} não é par!\")"
      ],
      "metadata": {
        "colab": {
          "base_uri": "https://localhost:8080/"
        },
        "id": "sUpE0EqH7Fur",
        "outputId": "2f8334f6-16af-47f5-99f8-53544bac4b4f"
      },
      "execution_count": null,
      "outputs": [
        {
          "output_type": "stream",
          "name": "stdout",
          "text": [
            "O número 0 é par!\n",
            "O número 1 não é par!\n",
            "O número 2 é par!\n",
            "O número 3 não é par!\n",
            "O número 4 é par!\n",
            "O número 5 não é par!\n",
            "O número 6 é par!\n",
            "O número 7 não é par!\n",
            "O número 8 é par!\n",
            "O número 9 não é par!\n"
          ]
        }
      ]
    },
    {
      "cell_type": "markdown",
      "source": [
        "# Funções de alta ordem:\n",
        "\n"
      ],
      "metadata": {
        "id": "qgtPzrHxOL8s"
      }
    },
    {
      "cell_type": "markdown",
      "source": [
        "As funções de alta ordem são aquelas que, como entrada (parâmetro), podem receber uma função e/ ou retornar uma função. Vejamos:"
      ],
      "metadata": {
        "id": "Xj2NW0neOT41"
      }
    },
    {
      "cell_type": "code",
      "source": [
        "# Criando uma função cuja funcionalidade é aplicar o juros especificado\n",
        "# a um montante, por meio da função lambda.\n",
        "\n",
        "def retorno_dos_juros(juros: float):\n",
        "\n",
        "  # A função lambda é retornada com seu cálculo realizado.\n",
        "  # A variável investimento representa o montante, no qual\n",
        "  # os juros é aplicado.\n",
        "\n",
        "  return lambda investimento: investimento * (1 + juros)"
      ],
      "metadata": {
        "id": "f8bct9On8JMa"
      },
      "execution_count": null,
      "outputs": []
    },
    {
      "cell_type": "code",
      "source": [
        "# Crio uma variável com os juros especificados,\n",
        "# a qual irá incidir sobre a função retorno_dos_juros.\n",
        "# Os juros aqui fornecido estará dentro da função lambda,\n",
        "# justamente no termo \"juros\".\n",
        "\n",
        "retorno_esperado = retorno_dos_juros(juros=0.13)\n",
        "\n",
        "# Nessa variável, municiado da variável retorno_esperado,\n",
        "# que incide sobre a função retorno_dos_juros, chego a função\n",
        "# lambda, que recebe como parâmetro o investimento, que é especificado\n",
        "# abaixo, retornando o montante final.\n",
        "\n",
        "valor_final = retorno_esperado(investimento=2200)\n",
        "\n",
        "# Arredondo o valor por dois.\n",
        "valor_final = round(valor_final, 2)\n",
        "\n",
        "print(f\"O valor final é de {valor_final} R$\")"
      ],
      "metadata": {
        "colab": {
          "base_uri": "https://localhost:8080/"
        },
        "id": "QCtZ_QFE8Lbl",
        "outputId": "3223c025-1c3c-4496-b648-a364bbac8aaa"
      },
      "execution_count": null,
      "outputs": [
        {
          "output_type": "stream",
          "name": "stdout",
          "text": [
            "O valor final é de 2486.0 R$\n"
          ]
        }
      ]
    },
    {
      "cell_type": "code",
      "source": [
        "# calculando o montante em uma série de anos.\n",
        "\n",
        "anos = 10\n",
        "valor_inicial = 2200\n",
        "retorno_esperado = retorno_dos_juros(juros=0.13)\n",
        "\n",
        "# Essa variável, para a dinâmica do ciclo for e também while\n",
        "# é de suma importância, tendo em vista que ela inicia os o ciclo\n",
        "# com um valor inicial, mas que ao longo desse é alterado, gerando\n",
        "# um novo valor, que será inserido novamente no ciclo, até que esse\n",
        "# seja completado.\n",
        "valor_final = valor_inicial\n",
        "\n",
        "# ciclo for no qual começo com o valor de \"1\", indicando\n",
        "# o primeiro ano e, após a vírgula, coloco a variável anos\n",
        "# mais um, pois o range sempre subtrai por um o último valor.\n",
        "for ano in range(1, anos+1):\n",
        "\n",
        "  # Armazeno o montante gerado por meio da combinação das funções\n",
        "  # na variável valor_final.\n",
        "  valor_final = retorno_esperado(investimento=valor_final)\n",
        "\n",
        "# Arredondo a variável por dois.\n",
        "valor_final = round(valor_final, 2)\n",
        "\n",
        "print(f\"O valor final é de {valor_final} R$\")"
      ],
      "metadata": {
        "colab": {
          "base_uri": "https://localhost:8080/"
        },
        "id": "V7res-TpSuc6",
        "outputId": "ddc6da2e-46c6-46b4-df0d-e940e7f70ca3"
      },
      "execution_count": null,
      "outputs": [
        {
          "output_type": "stream",
          "name": "stdout",
          "text": [
            "O valor final é de 7468.05 R$\n"
          ]
        }
      ]
    },
    {
      "cell_type": "markdown",
      "source": [
        "# Função Map\n"
      ],
      "metadata": {
        "id": "o8aHk1mfO46S"
      }
    },
    {
      "cell_type": "markdown",
      "source": [
        "A função map é uma função funcional de alta ordem, ou seja, ela assume como parâmetro uma outra função ou retorna uma função.\n",
        "\n",
        "Contrói-se da seguinte forma:\n",
        "\n",
        "*variável = map(função, coleção)*\n",
        "\n",
        "Coleção significa o conjunto de dados que queremos passar, para que consigamos obter um resultado esperado.\n",
        "\n",
        "A função map funciona da seguinte forma: ela intera cada elemento do código de modo paralelo, sem que faça um a um, como num ciclo for ou while, fazendo com que o processo seja mais célere e exiga menor capacidade de prcessamento."
      ],
      "metadata": {
        "id": "nKndruxvPMpd"
      }
    },
    {
      "cell_type": "code",
      "source": [
        "emails = [\"tinho_lod@gmail.com\", \"tinho_lod@outlook.com\", \"tinho_lod@yahoo.com\" ]\n",
        "\n",
        "provedores_email = map(lambda email: email.split(sep=\"@\")[-1], emails)\n",
        "\n",
        "print(provedores_email)\n"
      ],
      "metadata": {
        "colab": {
          "base_uri": "https://localhost:8080/"
        },
        "id": "DaKdypBMVlgL",
        "outputId": "c15fae7a-c9aa-4829-e3bd-db84437d7e6a"
      },
      "execution_count": null,
      "outputs": [
        {
          "output_type": "stream",
          "name": "stdout",
          "text": [
            "<map object at 0x7bfc6bce0280>\n"
          ]
        }
      ]
    },
    {
      "cell_type": "markdown",
      "source": [
        "Notou que quando peço para ele imprimir os provedores de email é a mim mostrado a função dizendo que carrega um objeto em 0x7fb3842bb520> ? Isso é o espaço da memória do servidor em que os provedores estão armazenando. Nesse sentido, essa função, sem que eu paça o método *list()* carrega a intenção de executar essa tarefa, que é separar dos emails seus provedores. Importante ressaltar que a função map retorna os valores a ela passados em forma de lista.\n",
        "\n",
        "Veremos agora como que os valores são, de fato, retornados usando o *list()*."
      ],
      "metadata": {
        "id": "fZsVgwO7SGC3"
      }
    },
    {
      "cell_type": "code",
      "source": [
        "provedores_email = list(map(lambda email: email.split(sep=\"@\")[-1], emails))\n",
        "\n",
        "print(provedores_email)\n",
        "\n",
        "print(\"\")\n",
        "\n",
        "provedores_email_ = map(lambda email: email.split(sep=\"@\")[-1], emails)\n",
        "\n",
        "print(list(provedores_email_))"
      ],
      "metadata": {
        "colab": {
          "base_uri": "https://localhost:8080/"
        },
        "id": "rykYImwvSBX8",
        "outputId": "9f8dca08-a471-4dca-8dc5-87d9ba597eba"
      },
      "execution_count": null,
      "outputs": [
        {
          "output_type": "stream",
          "name": "stdout",
          "text": [
            "['gmail.com', 'outlook.com', 'yahoo.com']\n",
            "\n",
            "['gmail.com', 'outlook.com', 'yahoo.com']\n"
          ]
        }
      ]
    },
    {
      "cell_type": "markdown",
      "source": [
        "Vemos aqui que podemos colocar o list tanto na função de fato quanto formos imprimir."
      ],
      "metadata": {
        "id": "fMyoymT9TZZD"
      }
    },
    {
      "cell_type": "markdown",
      "source": [
        "**Um outro exemplo:**"
      ],
      "metadata": {
        "id": "biaC0T9yTmp6"
      }
    },
    {
      "cell_type": "code",
      "source": [
        "anos = [5, 10, 15]\n",
        "\n",
        "taxa_juros = [0.05, 0.10, 0.15]\n",
        "\n",
        "investimento = [10000, 15000, 22000]\n",
        "\n",
        "# As listas anos, taxa_juros e investimento serão os elementos da coleção da função map,\n",
        "# os quais servirão como os parâmetros à função retorno_financeiro.\n",
        "\n",
        "def retorno_financeiro(investimento: float, taxa_juros: float, anos:int) -> float:\n",
        "\n",
        "  # Inicialmente atribuo o valor final como o investimento, que se trata de uma\n",
        "  # lista que carrega os valores iniciais, que, ao passar do ciclo for no alcançe\n",
        "  # dos anos especificados são alterados e armazenados até o ciclo ser finalizado.\n",
        "  valor_final = investimento\n",
        "\n",
        "  for ano in range(1, anos+ 1):\n",
        "\n",
        "    # O novo falor final será produto dessa equação.\n",
        "    valor_final = valor_final * (1 + taxa_juros)\n",
        "\n",
        "  # Retorno o valor final arredondado por dois.\n",
        "  return round(valor_final, 2)\n",
        "\n",
        "# variável que construída envolta à função map, estando o retorno financeiro\n",
        "# como a função e o investimento, taxa_juros e anos como suas coleções.\n",
        "cenarios = list(map(retorno_financeiro, investimento, taxa_juros, anos))\n",
        "\n",
        "print(cenarios)"
      ],
      "metadata": {
        "colab": {
          "base_uri": "https://localhost:8080/"
        },
        "id": "31VsilFMTVrM",
        "outputId": "113ef574-cd17-40c1-ed85-ca1370f0d551"
      },
      "execution_count": null,
      "outputs": [
        {
          "output_type": "stream",
          "name": "stdout",
          "text": [
            "[12762.82, 38906.14, 179015.36]\n"
          ]
        }
      ]
    },
    {
      "cell_type": "markdown",
      "source": [
        "# Função filter\n",
        "\n"
      ],
      "metadata": {
        "id": "95OD76oVns1y"
      }
    },
    {
      "cell_type": "markdown",
      "source": [
        "**Definição:**\n",
        "\n",
        "A função filter, como seu nome sugere, tem como objetivo filtrar os dados que deseja encontrar. Para tanto, ele utiliza de uma operação lógica em seu processo subjacente (em seu interior) com valores True ou False. Os valores que serão considerados True, isto é, verdadeiros, serão filtrados, enquanto que os tidos como False, ou seja, falso, serão rejeitados."
      ],
      "metadata": {
        "id": "_CLIDBVy7fd6"
      }
    },
    {
      "cell_type": "markdown",
      "source": [
        "Vejamos como funciona a função filter:\n",
        "\n",
        "variavel = filter(função, coleção)"
      ],
      "metadata": {
        "id": "rE9UtP5k8sel"
      }
    },
    {
      "cell_type": "markdown",
      "source": [
        "Nota-se que os parâmetros que devemos passar para a função são dois, um no qual buscará um determinado valor que irá comparar no segundo, sendo esse a coleção de dados na qual o valor ou valores que desejamos filtrar estão. É justamente através desse processo que ele utiliza valores lógicos de verdadeiro ou falso, para comparar, e, desse modo, retornar os valores que queremos filtrar, encontrar.  "
      ],
      "metadata": {
        "id": "oq5MlR8X94_8"
      }
    },
    {
      "cell_type": "markdown",
      "source": [
        "**Exemplo:**"
      ],
      "metadata": {
        "id": "25BjREP2-AP9"
      }
    },
    {
      "cell_type": "code",
      "source": [
        "numeros = [5,15,20]\n",
        "\n",
        "numeros_impar = filter(lambda num: num % 2 != 0, numeros)\n",
        "print(list(numeros_impar))\n",
        "\n",
        "print(\"\")\n",
        "\n",
        "numeros_par = filter(lambda num: num % 2 == 0, numeros)\n",
        "print(list(numeros_par))\n",
        "\n",
        "\n"
      ],
      "metadata": {
        "id": "VGQ4P3IlVPb2",
        "colab": {
          "base_uri": "https://localhost:8080/"
        },
        "outputId": "c97d4523-20aa-4d9d-e5d7-082a17d7dc20"
      },
      "execution_count": null,
      "outputs": [
        {
          "output_type": "stream",
          "name": "stdout",
          "text": [
            "[5, 15]\n",
            "\n",
            "[20]\n"
          ]
        }
      ]
    },
    {
      "cell_type": "markdown",
      "source": [
        "**Exemplo 2:**"
      ],
      "metadata": {
        "id": "NWLB4WX5GmVP"
      }
    },
    {
      "cell_type": "code",
      "source": [
        "emails = [\"tinholod@gmail.com\", \"tinholod@outlook.com\", \"tinholod@yahoo.com\"]\n",
        "\n",
        "# Criando a variável que irá armazenar os emails que tenham o provedor\n",
        "# requerido. Esse processo ocorre por meio da função lambda, na qual passamos\n",
        "# como parâmetro o valor que queremos encontrar em uma determinada coleção.\n",
        "\n",
        "provedor_email = lambda email: \"gmail\" in email  # Quando utilizo da string\n",
        "                                                 # \"gmail\" in email, estou dizendo\n",
        "                                                 # função lambda, eu quero encontrar\n",
        "                                                 # o provedor gmail a partir de uma\n",
        "                                                 # coleção ou valor que você foi exposto.\n",
        "\n",
        "emails_google = []\n",
        "\n",
        "for email in emails:\n",
        "  if provedor_email(email) == True:\n",
        "    emails_google.append(email)\n",
        "\n",
        "print(emails_google)"
      ],
      "metadata": {
        "colab": {
          "base_uri": "https://localhost:8080/"
        },
        "id": "dvErv3xs-2fd",
        "outputId": "77903445-891a-4bfc-b36f-3f80249a6281"
      },
      "execution_count": null,
      "outputs": [
        {
          "output_type": "stream",
          "name": "stdout",
          "text": [
            "['tinholod@gmail.com']\n"
          ]
        }
      ]
    },
    {
      "cell_type": "markdown",
      "source": [
        "Nesse exemplo de cima, criamos um ciclo for para armazenar dentro de uma lista os emais que tinham como provedor o google. Então o ciclo faz com que a variável email percorra todo um conjunto da lista emails, coloca-a dentro da variável provedor_email, que compreende a função que seleciona o provedor do google por meio da string \"gmail\", sob uma condicional; se for True, adiciona à lista emails_google."
      ],
      "metadata": {
        "id": "1FKpx75LJeyV"
      }
    },
    {
      "cell_type": "markdown",
      "source": [
        "Contudo, podemnos utilizar da função filter para realizar o mesmo processo, uma vez que ela foi feita justamente para isso, sem precisarmos dispor para tanto de uma forma mais manual por meio de um ciclo for, por assim dizer. Além disso, uma de suas vantagens é que, semelhante à função map, ela apresenta um processo, uma forma de operação em paralelo, e não linear, otimizando o processamento, resultando em respostas mais rápidas. Isso é importante para cenários que devemos filtrar um grande conjunto de dados."
      ],
      "metadata": {
        "id": "6i0ZTqUPLlxP"
      }
    },
    {
      "cell_type": "markdown",
      "source": [
        "Vejamos como filtrar o provedor de email por meio da função filter:"
      ],
      "metadata": {
        "id": "XH8lhByAMaPO"
      }
    },
    {
      "cell_type": "code",
      "source": [
        "emails = [\"tinholod@gmail.com\", \"tinholod@outlook.com\", \"tinholod@yahoo.com\"]\n",
        "\n",
        "provedor_email = lambda email: \"gmail\" in email\n",
        "\n",
        "emails_google = filter(provedor_email, emails)\n",
        "print(list(emails_google))"
      ],
      "metadata": {
        "colab": {
          "base_uri": "https://localhost:8080/"
        },
        "id": "YmKcHjkaGlo_",
        "outputId": "2289f3a1-2cd4-4b74-bf8a-5020a2c652bf"
      },
      "execution_count": null,
      "outputs": [
        {
          "output_type": "stream",
          "name": "stdout",
          "text": [
            "['tinholod@gmail.com']\n"
          ]
        }
      ]
    },
    {
      "cell_type": "markdown",
      "source": [
        "Nota-se que o resultado da função filter é semelhante ao que encontramos por meio do ciclo for, precisando passar apenas, nesse caso, a função que procura o provedor de email requerido, bem como a coleção em que podemos encontrar o email esperado."
      ],
      "metadata": {
        "id": "5uVCddAgN0dx"
      }
    },
    {
      "cell_type": "markdown",
      "source": [
        "Mas comumente quando utilizamos a função filter, a qual recebe como parâmetro a função lambda como parâmetro, por essa se tratar de uma variável anônima, não há muita necessidade de definirmos uma variável explicita que indique o que aquela função realiza, justamente por ser anônima. Isto posto, podemos colocar a função lambda, em sua forma anônima, dentro já da função filter, acelerando o processo e deixando o código mais sintético."
      ],
      "metadata": {
        "id": "LWaJu6TxPngN"
      }
    },
    {
      "cell_type": "code",
      "source": [
        "emails_google = filter(lambda email: \"gmail\" in email, emails) # Aqui a função lambda está em sua condição anônima,\n",
        "                                                               # na qual, como parâmetro, passo a string \"gmail\" que eu\n",
        "                                                               # quero encontrar para que eu possa filtrar o provedor requerido em email,\n",
        "                                                               # que \"vasculha\" todos os emails dentro da coleção emails.\n",
        "\n",
        "                                                               # Como o filter opera de forma lógica, aqueles que adentram a condição de ter\n",
        "                                                               # o mesmo provedor requerido são selecionados e retornados.\n",
        "\n",
        "print(list(emails_google))\n",
        "\n",
        "# Importante lembrar que eu preciso colocar a variável emails_google dentro do método\n",
        "# list, pois o filter, assim como a função map, armazena o resultado num espaço de memória\n",
        "# do hardware, sendo o esse explicitado apenas quando passamos o list."
      ],
      "metadata": {
        "colab": {
          "base_uri": "https://localhost:8080/"
        },
        "id": "KqAntFNsNvss",
        "outputId": "47a8964a-f53c-4bc9-f7f0-b5d877a33ec0"
      },
      "execution_count": null,
      "outputs": [
        {
          "output_type": "stream",
          "name": "stdout",
          "text": [
            "['tinholod@gmail.com']\n"
          ]
        }
      ]
    },
    {
      "cell_type": "markdown",
      "source": [
        "# Função Reduce\n"
      ],
      "metadata": {
        "id": "rIh-7rUzxkxY"
      }
    },
    {
      "cell_type": "markdown",
      "source": [
        "**Definição**"
      ],
      "metadata": {
        "id": "KhXEseuRxpVh"
      }
    },
    {
      "cell_type": "markdown",
      "source": [
        "A função reduce aplica uma função a todos elementos de uma função, dois a dois, retornando ao final apenas um elemento. Esse procedimento de ser, a cada elemento de uma coleção, operado em dois a dois, portanto em conjunto, trata-se de uma combinação em par que essa função realiza como meio para encontrar seu objetivo, a depender de sua intenção. Desse modo, pode ser uma soma, operações lógicas e etc."
      ],
      "metadata": {
        "id": "dfwp5TFWyPJ7"
      }
    },
    {
      "cell_type": "markdown",
      "source": [
        "**Vejamos alguns exemplos:**"
      ],
      "metadata": {
        "id": "aMt3314sy1gH"
      }
    },
    {
      "cell_type": "code",
      "source": [
        "numeros = [15, 20, 25] # Minha coleção.\n",
        "\n",
        "# Para utilizar a função reduce preciso, antes, importá-lo da biblioteca\n",
        "# functools\n",
        "\n",
        "from functools import reduce\n",
        "\n",
        "soma = reduce(lambda x, y: x + y, numeros)\n",
        "\n",
        "print(soma)\n"
      ],
      "metadata": {
        "colab": {
          "base_uri": "https://localhost:8080/"
        },
        "id": "8BFIS9uTQ1A4",
        "outputId": "df29dfc5-721f-4574-f5d4-d33c80d136dd"
      },
      "execution_count": null,
      "outputs": [
        {
          "output_type": "stream",
          "name": "stdout",
          "text": [
            "60\n"
          ]
        }
      ]
    },
    {
      "cell_type": "markdown",
      "source": [
        "**Entendendo o que a função reduce fez:**\n"
      ],
      "metadata": {
        "id": "s6C8i_sS0Gxo"
      }
    },
    {
      "cell_type": "markdown",
      "source": [
        "A função lambda utilizada recebe como parâmetro dois valores (uma vez que está imersa à lógica da função reduce, precisando, desse modo, passar sempre dois valores), \"vai\" até a coleção referida, toma os dois primeiros valores, que serão 15 e 20, soma-os, e, depois, o resultado dessa soma é somado novamente com o valor 25, resultando em um único elemento, que será justamente o 60.\n",
        "\n"
      ],
      "metadata": {
        "id": "2OvPyjfY15Oh"
      }
    },
    {
      "cell_type": "markdown",
      "source": [
        "Em outras palavras:\n",
        "\n",
        "\n",
        "\n",
        "*   (I) 15 + 20 = 35\n",
        "*   (II) 35 + 25 = 60\n",
        "\n"
      ],
      "metadata": {
        "id": "FCewGMMF3VBg"
      }
    },
    {
      "cell_type": "markdown",
      "source": [
        "É isso que a função reduce faz, ela combina todos os valores de um conjunto qualquer, dois a dois, até resultar em um único elemento. Para entender de modo esquemático esse processo, olhar o \"caderninho\" da Duratex no qual há os desenhos do Hollow Knight."
      ],
      "metadata": {
        "id": "y0TO2hk93PzW"
      }
    },
    {
      "cell_type": "markdown",
      "source": [
        "**Exemplo 2: Encontrar o maior número numa lista**"
      ],
      "metadata": {
        "id": "PHbCKuVZ4mt7"
      }
    },
    {
      "cell_type": "markdown",
      "source": [
        "Vejamos como podemos usar a função reduce de uma outra forma, por meio de uma outra abordagem, de operadores lógicos, mas antes utilizaremos uma função explicíta e depois anônima, o lambda:"
      ],
      "metadata": {
        "id": "2a1FdRe74rZY"
      }
    },
    {
      "cell_type": "code",
      "source": [
        "def maior_entre(primeiro: int, segundo: int) -> int:\n",
        "\n",
        "  return primeiro if primeiro >= segundo else segundo\n",
        "\n",
        "primeiro = 22\n",
        "segundo = 15\n",
        "\n",
        "maior_entre(primeiro, segundo)"
      ],
      "metadata": {
        "colab": {
          "base_uri": "https://localhost:8080/"
        },
        "id": "PM0qe6vyz_zY",
        "outputId": "2824036f-1998-4fb1-c1e2-bb79d34a5188"
      },
      "execution_count": null,
      "outputs": [
        {
          "output_type": "execute_result",
          "data": {
            "text/plain": [
              "22"
            ]
          },
          "metadata": {},
          "execution_count": 16
        }
      ]
    },
    {
      "cell_type": "markdown",
      "source": [
        "Agora pelo uso da função reduce:"
      ],
      "metadata": {
        "id": "54CRr6dU54ha"
      }
    },
    {
      "cell_type": "code",
      "source": [
        "from random import random\n",
        "\n",
        "print(random())\n",
        "print(\"\")\n",
        "print(random())\n",
        "print(\"\")\n",
        "print(random())\n",
        "\n",
        "\n",
        "# A função random, que precisa ser importada da biblioteca random, retorna valores entre 0 e 1 aleatórios,\n",
        "# variando a cada vez que é executado. Ela irá servir para demonstrar o exemplo abaixo, que será escolher o maior\n",
        "# número dentro de um conjunto de números."
      ],
      "metadata": {
        "colab": {
          "base_uri": "https://localhost:8080/"
        },
        "id": "JTV2vjKP6g2c",
        "outputId": "5a3d94fb-d9aa-432a-aacf-ce7d462a47d8"
      },
      "execution_count": null,
      "outputs": [
        {
          "output_type": "stream",
          "name": "stdout",
          "text": [
            "0.5887851587414458\n",
            "\n",
            "0.5721089050032707\n",
            "\n",
            "0.3628704390397526\n"
          ]
        }
      ]
    },
    {
      "cell_type": "code",
      "source": [
        "from random import random\n",
        "\n",
        "numeros = [round(100 * random()) for _ in range(0, 100)] # Nota que esse ciclo for está diferente,\n",
        "                                                         # ao invés de ter qualquer variável que preencherá,\n",
        "                                                         # \"caminhará\" um determinado alcançe, que aqui é do\n",
        "                                                         # valor 0 ao 100, ele apenas irá gerar valores dentro\n",
        "                                                         # de um alcançe de 100 valores. Para isso usamos o underline (\"_\").\n",
        "\n",
        "# Estou multiplicando por 100 e arrendondando os valores provenientes\n",
        "# da função random, como forma de facilitar a leitura, tendo em vista que\n",
        "# por natureza o random gera valores 0 <= x <= 1.\n",
        "\n",
        "print(numeros)\n",
        "\n",
        "\n"
      ],
      "metadata": {
        "colab": {
          "base_uri": "https://localhost:8080/"
        },
        "id": "Rvcc1_gk5soZ",
        "outputId": "38adcfb2-bcfa-432c-c963-2f3cf38e32f1"
      },
      "execution_count": null,
      "outputs": [
        {
          "output_type": "stream",
          "name": "stdout",
          "text": [
            "[83, 22, 92, 58, 21, 18, 3, 91, 49, 21, 66, 64, 31, 20, 11, 96, 7, 15, 15, 35, 73, 52, 42, 28, 37, 11, 18, 61, 44, 19, 91, 10, 25, 85, 83, 45, 39, 21, 46, 11, 9, 43, 43, 6, 94, 67, 20, 63, 42, 98, 39, 14, 19, 82, 6, 92, 55, 96, 100, 74, 56, 96, 25, 49, 67, 7, 62, 99, 65, 55, 78, 50, 12, 1, 100, 65, 9, 91, 69, 89, 93, 4, 80, 71, 30, 3, 85, 61, 74, 27, 92, 50, 43, 55, 62, 98, 84, 72, 98, 17]\n"
          ]
        }
      ]
    },
    {
      "cell_type": "code",
      "source": [
        "maior_numero = reduce(maior_entre, numeros)\n",
        "\n",
        "print(f\"o maior número dessa coleção é o {maior_numero} .\")"
      ],
      "metadata": {
        "colab": {
          "base_uri": "https://localhost:8080/"
        },
        "id": "JUPV01ez6llD",
        "outputId": "7f04f3aa-3722-475d-a0d9-0647cad2288c"
      },
      "execution_count": null,
      "outputs": [
        {
          "output_type": "stream",
          "name": "stdout",
          "text": [
            "o maior número dessa coleção é o 100 .\n"
          ]
        }
      ]
    },
    {
      "cell_type": "markdown",
      "source": [
        "Utilização a função anônima lambda para realizar o mesmo procedimento"
      ],
      "metadata": {
        "id": "ePH83V5_-IJy"
      }
    },
    {
      "cell_type": "code",
      "source": [
        "maior_numero = reduce(lambda primeiro, segundo :  primeiro if primeiro >= segundo else segundo, numeros)\n",
        "\n",
        "print(f\"o maior número dessa coleção é o {maior_numero} .\")"
      ],
      "metadata": {
        "colab": {
          "base_uri": "https://localhost:8080/"
        },
        "id": "WmbhbKpL93ko",
        "outputId": "d7296ceb-b125-4fe8-c06d-b1ee2c0326f6"
      },
      "execution_count": null,
      "outputs": [
        {
          "output_type": "stream",
          "name": "stdout",
          "text": [
            "o maior número dessa coleção é o 100 .\n"
          ]
        }
      ]
    },
    {
      "cell_type": "markdown",
      "source": [
        "# Exercício"
      ],
      "metadata": {
        "id": "DkOE--UTRHcy"
      }
    },
    {
      "cell_type": "code",
      "source": [
        "%%writefile credito.csv\n",
        "id_vendedor,valor_emprestimos,quantidade_emprestimos,data\n",
        "104271,448.0,1,20161208\n",
        "21476,826.7,3,20161208\n",
        "87440,313.6,3,20161208\n",
        "15980,-8008.0,6,20161208\n",
        "215906,2212.0,5,20161208\n",
        "33696,2771.3,2,20161208\n",
        "33893,2240.0,3,20161208\n",
        "123974,2021.95,2,20161208\n",
        "225870,4039.0,2,20161208"
      ],
      "metadata": {
        "colab": {
          "base_uri": "https://localhost:8080/"
        },
        "id": "ABV3rjF1-yMb",
        "outputId": "dd71582f-8e83-49cf-cdc0-dd826ec70f2b"
      },
      "execution_count": null,
      "outputs": [
        {
          "output_type": "stream",
          "name": "stdout",
          "text": [
            "Writing credito.csv\n"
          ]
        }
      ]
    },
    {
      "cell_type": "code",
      "source": [
        "# Realizando a leitura do arquivo credito.csv :\n",
        "\n",
        "emprestimos = [] # Criando uma lista que irá armazenar\n",
        "                 # os empréstimos condedidos, os quais estarão\n",
        "                 # em forma de dicionário.\n",
        "\n",
        "with open(file= \"./credito.csv\", mode=\"r\", encoding=\"utf8\") as fp:\n",
        "\n",
        "  fp.readline() # cabeçalho.\n",
        "\n",
        "  linha = fp.readline()\n",
        "\n",
        "  while linha:\n",
        "\n",
        "    linha_emprestimo = {} # Criando um dicionário.\n",
        "\n",
        "    linha_elementos = linha.strip().split(sep=\",\") # A função strip tem como papel excluir do conjunto de dados qualquer valor vazio\n",
        "\n",
        "    # Aqui estou definindo cada coluna dp conjunto de dados a algo dentro do escopo do\n",
        "    # dicionário, sendo, respectivamente, a id do vendedor, o valor do empréstimo,\n",
        "    # a quantidade de emrpréstimo e a data na qual fora concedido.\n",
        "\n",
        "    linha_emprestimo[\"id_vendedor\"] = linha_elementos[0]\n",
        "    linha_emprestimo[\"valor_emprestimo\"] = linha_elementos[1]\n",
        "    linha_emprestimo[\"quantidade_emprestimo\"] = linha_elementos[2]\n",
        "    linha_emprestimo[\"data\"] = linha_elementos[3]\n",
        "\n",
        "    emprestimos.append(linha_emprestimo)\n",
        "\n",
        "    linha = fp.readline() # Aqui estou completando o ciclo while, que terá fim quando não houver\n",
        "                          # linha para ser lida, retornando o valor de None, vazio.\n",
        "\n",
        "for emprestimo in emprestimos:\n",
        "  print(emprestimo)"
      ],
      "metadata": {
        "colab": {
          "base_uri": "https://localhost:8080/"
        },
        "id": "_TVQEJ8SSAiO",
        "outputId": "11ac8f49-738c-40d2-f872-6a510914b6f6"
      },
      "execution_count": null,
      "outputs": [
        {
          "output_type": "stream",
          "name": "stdout",
          "text": [
            "{'id_vendedor': '104271', 'valor_emprestimo': '448.0', 'quantidade_emprestimo': '1', 'data': '20161208'}\n",
            "{'id_vendedor': '21476', 'valor_emprestimo': '826.7', 'quantidade_emprestimo': '3', 'data': '20161208'}\n",
            "{'id_vendedor': '87440', 'valor_emprestimo': '313.6', 'quantidade_emprestimo': '3', 'data': '20161208'}\n",
            "{'id_vendedor': '15980', 'valor_emprestimo': '-8008.0', 'quantidade_emprestimo': '6', 'data': '20161208'}\n",
            "{'id_vendedor': '215906', 'valor_emprestimo': '2212.0', 'quantidade_emprestimo': '5', 'data': '20161208'}\n",
            "{'id_vendedor': '33696', 'valor_emprestimo': '2771.3', 'quantidade_emprestimo': '2', 'data': '20161208'}\n",
            "{'id_vendedor': '33893', 'valor_emprestimo': '2240.0', 'quantidade_emprestimo': '3', 'data': '20161208'}\n",
            "{'id_vendedor': '123974', 'valor_emprestimo': '2021.95', 'quantidade_emprestimo': '2', 'data': '20161208'}\n",
            "{'id_vendedor': '225870', 'valor_emprestimo': '4039.0', 'quantidade_emprestimo': '2', 'data': '20161208'}\n"
          ]
        }
      ]
    },
    {
      "cell_type": "markdown",
      "source": [
        "**Função map**"
      ],
      "metadata": {
        "id": "ZMLHH_DAWu5C"
      }
    },
    {
      "cell_type": "markdown",
      "source": [
        "Extraindo os valores da chave valor_emprestimo na lista valor_emprestimo_lista, transformando o valor de string para float ao final."
      ],
      "metadata": {
        "id": "WrFcpee1W3_X"
      }
    },
    {
      "cell_type": "code",
      "source": [
        "x = float(emprestimo[\"valor_emprestimo\"])\n",
        "x"
      ],
      "metadata": {
        "colab": {
          "base_uri": "https://localhost:8080/"
        },
        "id": "KyvbuUylcLwl",
        "outputId": "44c308db-13b0-4d28-de1e-b51a68a118ae"
      },
      "execution_count": null,
      "outputs": [
        {
          "output_type": "execute_result",
          "data": {
            "text/plain": [
              "4039.0"
            ]
          },
          "metadata": {},
          "execution_count": 35
        }
      ]
    },
    {
      "cell_type": "code",
      "source": [
        "print(emprestimos)"
      ],
      "metadata": {
        "colab": {
          "base_uri": "https://localhost:8080/"
        },
        "id": "9fyn6kPMd9So",
        "outputId": "262e807b-aad0-476e-f902-e21c7879e877"
      },
      "execution_count": null,
      "outputs": [
        {
          "output_type": "stream",
          "name": "stdout",
          "text": [
            "[{'id_vendedor': '104271', 'valor_emprestimo': '448.0', 'quantidade_emprestimo': '1', 'data': '20161208'}, {'id_vendedor': '21476', 'valor_emprestimo': '826.7', 'quantidade_emprestimo': '3', 'data': '20161208'}, {'id_vendedor': '87440', 'valor_emprestimo': '313.6', 'quantidade_emprestimo': '3', 'data': '20161208'}, {'id_vendedor': '15980', 'valor_emprestimo': '-8008.0', 'quantidade_emprestimo': '6', 'data': '20161208'}, {'id_vendedor': '215906', 'valor_emprestimo': '2212.0', 'quantidade_emprestimo': '5', 'data': '20161208'}, {'id_vendedor': '33696', 'valor_emprestimo': '2771.3', 'quantidade_emprestimo': '2', 'data': '20161208'}, {'id_vendedor': '33893', 'valor_emprestimo': '2240.0', 'quantidade_emprestimo': '3', 'data': '20161208'}, {'id_vendedor': '123974', 'valor_emprestimo': '2021.95', 'quantidade_emprestimo': '2', 'data': '20161208'}, {'id_vendedor': '225870', 'valor_emprestimo': '4039.0', 'quantidade_emprestimo': '2', 'data': '20161208'}]\n"
          ]
        }
      ]
    },
    {
      "cell_type": "code",
      "source": [
        "def extrai_valor_do_emprestimo(lista: list) -> float:\n",
        "\n",
        "  valores_emprestimos = []\n",
        "\n",
        "  for emprestimo in emprestimos:\n",
        "\n",
        "    valor = emprestimo[\"valor_emprestimo\"]\n",
        "    valor = float(valor)\n",
        "\n",
        "    valores_emprestimos.append(valor)"
      ],
      "metadata": {
        "id": "3HommA-RYfMD"
      },
      "execution_count": null,
      "outputs": []
    },
    {
      "cell_type": "code",
      "source": [
        "extrai_valor_emprestimo = list(map(extrai_valor_do_emprestimo, emprestimos))\n",
        "\n",
        "print(extrai_valor_emprestimo)"
      ],
      "metadata": {
        "colab": {
          "base_uri": "https://localhost:8080/"
        },
        "id": "QTBKwOPGbfNm",
        "outputId": "aa3d34fe-7ebf-40eb-91e3-6e7a9064a90c"
      },
      "execution_count": null,
      "outputs": [
        {
          "output_type": "stream",
          "name": "stdout",
          "text": [
            "[None, None, None, None, None, None, None, None, None]\n"
          ]
        }
      ]
    },
    {
      "cell_type": "code",
      "source": [
        "extrai_valor_emprestimo = list(map(lambda valor_emprestimo : emprestimo[\"valor_emprestimo\"] in valor_emprestimo, emprestimos))\n",
        "extrai_valor_do_emprestimo"
      ],
      "metadata": {
        "colab": {
          "base_uri": "https://localhost:8080/"
        },
        "id": "Wsljw5isbyP6",
        "outputId": "1f041f4c-e9ed-4386-e342-c2f7e797c7e4"
      },
      "execution_count": null,
      "outputs": [
        {
          "output_type": "execute_result",
          "data": {
            "text/plain": [
              "<function __main__.extrai_valor_do_emprestimo(lista: list) -> float>"
            ]
          },
          "metadata": {},
          "execution_count": 48
        }
      ]
    },
    {
      "cell_type": "markdown",
      "source": [
        "**Função filter**"
      ],
      "metadata": {
        "id": "6JS7NAEckz0i"
      }
    },
    {
      "cell_type": "markdown",
      "source": [
        "Filtrar os valores de empréstimo apenas aqueles que são maior que zero."
      ],
      "metadata": {
        "id": "ETA0vVInlVU1"
      }
    },
    {
      "cell_type": "code",
      "source": [],
      "metadata": {
        "id": "8w7ZYOwGkpOy"
      },
      "execution_count": null,
      "outputs": []
    }
  ]
}