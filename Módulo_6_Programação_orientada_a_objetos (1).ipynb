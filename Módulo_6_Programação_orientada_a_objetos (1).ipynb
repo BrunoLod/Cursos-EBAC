{
  "nbformat": 4,
  "nbformat_minor": 0,
  "metadata": {
    "colab": {
      "provenance": []
    },
    "kernelspec": {
      "name": "python3",
      "display_name": "Python 3"
    },
    "language_info": {
      "name": "python"
    }
  },
  "cells": [
    {
      "cell_type": "markdown",
      "source": [
        "# Classe"
      ],
      "metadata": {
        "id": "sEvSz2jgeIja"
      }
    },
    {
      "cell_type": "markdown",
      "source": [
        "A classe é uma receita de bolo com a qual por meio da combinação de atributos, que são a característica da classe, e métodos, que são as ações da classe as quais irão executar uma dada função, formarão um objeto qualquer. Por meio delas que pode-se derivar uma herança, que se denomina assim por conseguir reaproveitar atributos e métodos gerais de um objeto aplicado a outra que, ainda que possua suas especificidades, demanda aspectos gerais presentes na classe de origem. Para mais detalhes checar o caderno e seu esquema."
      ],
      "metadata": {
        "id": "Yl6f4o97eLq5"
      }
    },
    {
      "cell_type": "markdown",
      "source": [
        "**Construindo uma classe:**"
      ],
      "metadata": {
        "id": "pxAhKiUCfQkJ"
      }
    },
    {
      "cell_type": "code",
      "execution_count": 1,
      "metadata": {
        "id": "lT8LF7UUsNK8"
      },
      "outputs": [],
      "source": [
        "from time import sleep\n",
        "\n",
        "class Pessoa(object):\n",
        "\n",
        "  def __init__(self, nome: str, idade: int, documento: str = None): # Dentro da função _init_ eu digo que o parâmetro documento também pode ser\n",
        "                                                                  # None, pois pode haver cenários em que a pessoa não o tem. Assim, não incorro\n",
        "                                                                  # no risco de meu código dar problema.\n",
        "\n",
        "                                                                  # Importante lembrar que são dois underlines entre o init e str, em cada lado;\n",
        "                                                                  # não apenas um.\n",
        "\n",
        "    self.nome = nome\n",
        "    self.idade = idade\n",
        "    self.documento = documento\n",
        "\n",
        "  def dormir(self, horas: int) -> None:\n",
        "\n",
        "    for hora in range(1, horas + 1):\n",
        "      print(f\"Dormido por {hora} horas\")\n",
        "      sleep(1)\n",
        "\n",
        "  def falar(self, texto: str) -> None:\n",
        "\n",
        "    print(texto)\n",
        "\n",
        "  def __str__(self) -> str :\n",
        "\n",
        "    return f\"{self.nome}, {self.idade} anos e número do documento {self.documento}\"\n",
        "\n",
        "\n",
        "\n",
        "\n"
      ]
    },
    {
      "cell_type": "markdown",
      "source": [
        "**Entendendo o código:**\n",
        "\n",
        "No corpo do código que cria a classe, temos a presença de funções que lhe são seus constituintes. Cada função terá uma razão de ser, sendo a função _init_ e _str_ métodos mágicos, que se constituem por ser meios pelos quais auxilíamos o python a interagir com o objeto, seja instanciando-o (_init_), ou retornando-o (_str_).\n",
        "\n",
        "Aém desses métodos, notamos a presença do \"self.\"; proveniente do inglês, ele significa, traduzindo, algo como próprio (próprio de). No contexto da programação, é uma forma de diferenciar uma variável comum, isto é, uma que não está dentro de uma clase e é própria de um objeto, de uma que pertence a um objeto, definido em uma classe. Sempre o utilizamos quando se trabalha com programação orientada a objetos.\n",
        "\n",
        "Outra coisa a se analisar é a construção da classe enquanto tal. Nota-se que diferente das demais variáveis ou funções que eram construidas apenas em minúsculo, separando mais de uma palavra por meio de underlines, aqui construímos escrevendo a palavra inicial com letra maiúscula e não separamos por underline, mas juntamos, como por exemplo:\n",
        "\n",
        "      class GatosCanoas(objeto):\n",
        "          ...\n",
        "\n",
        "Além disso, deve-se lembrar que os atributos da classe ficam circunscritas pela função *def init(self, params):*, enquanto que os métodos vêm em seguida, como podemos ver no próprio gráfico."
      ],
      "metadata": {
        "id": "5lXtjHBKqxa7"
      }
    },
    {
      "cell_type": "markdown",
      "source": [
        "# Objeto"
      ],
      "metadata": {
        "id": "-kqDhhodghmG"
      }
    },
    {
      "cell_type": "markdown",
      "source": [
        "Um objeto é uma instância de uma classe e, em termos de código, podemos encontrá-lo da seguinte forma:\n",
        "\n",
        "objeto = NomeClasse()\n",
        "\n",
        "Podendo acessar os itens do objetos presentes na classe, isto é, os seus atributos, bem como métodos da seguinte forma:\n",
        "\n",
        "objeto.atributo\n",
        "objeto.metodo()\n",
        "\n",
        "Importante lembrar que pelo método ser uma função da classe, esse se encontra com parênteses sempre."
      ],
      "metadata": {
        "id": "6ZmdsgOFglcF"
      }
    },
    {
      "cell_type": "markdown",
      "source": [
        "Atributos:"
      ],
      "metadata": {
        "id": "UFHVQGjXno8z"
      }
    },
    {
      "cell_type": "code",
      "source": [
        "bismarck = Pessoa(nome = \"Biscmarck\", idade = 32, documento = \"123\")\n",
        "yalom = Pessoa(nome = \"Yalom\", idade = 65, documento = \"456\")\n",
        "memphis = Pessoa(nome = \"Memphis\", idade = 13)"
      ],
      "metadata": {
        "id": "TQzwC4okAytJ"
      },
      "execution_count": 2,
      "outputs": []
    },
    {
      "cell_type": "markdown",
      "source": [
        "Manipulando os objetos:\n",
        "\n",
        "Podemos acessar os objetos da seguinte forma."
      ],
      "metadata": {
        "id": "HIykVvT7iQko"
      }
    },
    {
      "cell_type": "code",
      "source": [
        "print(bismarck.nome)\n",
        "print(\"\")\n",
        "print(yalom.nome)\n",
        "print(\"\")\n",
        "print(memphis.nome)"
      ],
      "metadata": {
        "colab": {
          "base_uri": "https://localhost:8080/"
        },
        "id": "Qus-k4pgf-rA",
        "outputId": "ea10ab24-0e66-4af7-c229-c29996bea734"
      },
      "execution_count": 3,
      "outputs": [
        {
          "output_type": "stream",
          "name": "stdout",
          "text": [
            "Biscmarck\n",
            "\n",
            "Yalom\n",
            "\n",
            "Memphis\n"
          ]
        }
      ]
    },
    {
      "cell_type": "code",
      "source": [
        "print(bismarck.documento)\n",
        "print(\"\")\n",
        "print(bismarck.idade)"
      ],
      "metadata": {
        "colab": {
          "base_uri": "https://localhost:8080/"
        },
        "id": "l9zJvjTzibvW",
        "outputId": "36edd2ec-1979-4311-897d-e5ac668c2b0f"
      },
      "execution_count": 4,
      "outputs": [
        {
          "output_type": "stream",
          "name": "stdout",
          "text": [
            "123\n",
            "\n",
            "32\n"
          ]
        }
      ]
    },
    {
      "cell_type": "markdown",
      "source": [
        "Como vimos, podemos acessar os elementos de um objeto bastando inseri-lo, após colocar um ponto e o que desse objeto queremos acessar. Em termos de linguagem coloquial, seria como dizer ao Python: Python,do objeto bismarck eu quero o nome dele, ou a idade, ou o documento.\n",
        "\n",
        "Algo importante de se notar que isso vale apenas aos atributos. Para os métodos, devemos passá-lo junto de \"()\", uma vez que eles representam funções."
      ],
      "metadata": {
        "id": "RCtAerwbi54q"
      }
    },
    {
      "cell_type": "markdown",
      "source": [
        "Manipulando objetos junto de funções:\n"
      ],
      "metadata": {
        "id": "3Qia9-G7kb1O"
      }
    },
    {
      "cell_type": "code",
      "source": [
        "def maior_de_idade(idade : int) -> bool:\n",
        "\n",
        "  return idade >= 18\n",
        "\n",
        "if maior_de_idade(idade = bismarck.idade):\n",
        "  print(f\"{bismarck.nome} é maior de idade\")"
      ],
      "metadata": {
        "colab": {
          "base_uri": "https://localhost:8080/"
        },
        "id": "XXBSMOcEincO",
        "outputId": "631993b1-6001-4dad-dc0c-023695c40054"
      },
      "execution_count": 5,
      "outputs": [
        {
          "output_type": "stream",
          "name": "stdout",
          "text": [
            "Biscmarck é maior de idade\n"
          ]
        }
      ]
    },
    {
      "cell_type": "code",
      "source": [
        "score_credito = {\"123\":750, \"456\": 150} # Crio um dicionário no qual armazeno, em chaves, os valores correspondentes\n",
        "                                        # a cada documento.\n",
        "\n",
        "score = score_credito[yalom.documento]  # Acesso o valor correspondente ao documento do usuário do dicionário\n",
        "                                        # dicionário score_credito.\n",
        "score"
      ],
      "metadata": {
        "colab": {
          "base_uri": "https://localhost:8080/"
        },
        "id": "Luu3PyArlXoD",
        "outputId": "e0295b44-fb31-4608-af2d-9a93b0bfe47e"
      },
      "execution_count": 6,
      "outputs": [
        {
          "output_type": "execute_result",
          "data": {
            "text/plain": [
              "150"
            ]
          },
          "metadata": {},
          "execution_count": 6
        }
      ]
    },
    {
      "cell_type": "markdown",
      "source": [
        "Métodos:"
      ],
      "metadata": {
        "id": "G3G6yTdCntKs"
      }
    },
    {
      "cell_type": "code",
      "source": [
        "bismarck.dormir(horas=5)"
      ],
      "metadata": {
        "colab": {
          "base_uri": "https://localhost:8080/"
        },
        "id": "4vOGftymmChB",
        "outputId": "7ad3d318-2c67-4bcf-d9b9-2b184e1c7f1e"
      },
      "execution_count": 7,
      "outputs": [
        {
          "output_type": "stream",
          "name": "stdout",
          "text": [
            "Dormido por 1 horas\n",
            "Dormido por 2 horas\n",
            "Dormido por 3 horas\n",
            "Dormido por 4 horas\n",
            "Dormido por 5 horas\n"
          ]
        }
      ]
    },
    {
      "cell_type": "code",
      "source": [
        "bismarck.falar(texto=\"Estou chateado, gostaria de estar fazendo algo que eu goste, ter uma boa estatura e me perder no mundo a fim de encontrar uma estrela para minha órbita orbitar, ou eu na dela\")"
      ],
      "metadata": {
        "colab": {
          "base_uri": "https://localhost:8080/"
        },
        "id": "CxBqo8Uln18q",
        "outputId": "35f16235-59a0-4553-d998-0dec55a919e6"
      },
      "execution_count": 8,
      "outputs": [
        {
          "output_type": "stream",
          "name": "stdout",
          "text": [
            "Estou chateado, gostaria de estar fazendo algo que eu goste, ter uma boa estatura e me perder no mundo a fim de encontrar uma estrela para minha órbita orbitar, ou eu na dela\n"
          ]
        }
      ]
    },
    {
      "cell_type": "code",
      "source": [
        "print(bismarck) # Quando definimos um objeto a partir da classe e o imprimimos, retornamos o objeto, seus atributos."
      ],
      "metadata": {
        "colab": {
          "base_uri": "https://localhost:8080/"
        },
        "id": "K6xD_6aWoJ41",
        "outputId": "863cadb2-8a48-4355-f64f-9ebd28267e1a"
      },
      "execution_count": 9,
      "outputs": [
        {
          "output_type": "stream",
          "name": "stdout",
          "text": [
            "Biscmarck, 32 anos e número do documento 123\n"
          ]
        }
      ]
    },
    {
      "cell_type": "code",
      "source": [
        "type(bismarck)"
      ],
      "metadata": {
        "colab": {
          "base_uri": "https://localhost:8080/"
        },
        "id": "XgTzlKGUoccs",
        "outputId": "8bd6079d-2336-487f-8b54-9f7fc644af67"
      },
      "execution_count": 10,
      "outputs": [
        {
          "output_type": "execute_result",
          "data": {
            "text/plain": [
              "__main__.Pessoa"
            ]
          },
          "metadata": {},
          "execution_count": 10
        }
      ]
    },
    {
      "cell_type": "code",
      "source": [
        "%%writefile banco.csv\n",
        "age, job, marital, education, default, balance, housing, loan\n",
        "30, unemployed, married, primary, no, 1787, no, no\n",
        "33, services, married, secondary, no, 4789, yes, yes\n",
        "35, management, single, tertiary, no, 1350, yes, no\n",
        "38, management, married, tertiary, no, 1476, yes, yes\n",
        "59, blue-collar, married, secondary, no, 8, yes, no\n",
        "35, management, single, tertiary, no, 747, no, no\n",
        "41, entrepreneur, married, tertiary, no, 221, yes, no"
      ],
      "metadata": {
        "colab": {
          "base_uri": "https://localhost:8080/"
        },
        "id": "piSJIgBpogUb",
        "outputId": "73895822-306c-4b58-edb6-9a8fa8bc9d79"
      },
      "execution_count": 11,
      "outputs": [
        {
          "output_type": "stream",
          "name": "stdout",
          "text": [
            "Writing banco.csv\n"
          ]
        }
      ]
    },
    {
      "cell_type": "code",
      "source": [
        "class ArquivoCSV(object):\n",
        "\n",
        "  def __init__(self, arquivo: str):\n",
        "\n",
        "    self.arquivo = arquivo\n",
        "    self.conteudo = self._extrair_conteudo()\n",
        "    self.colunas = self._extrair_nome_coluna()\n",
        "\n",
        "    # Note que eu estou passando como atributos do meu objeto tanto conteudo quanto colunas,\n",
        "    # os quais são formados pelo uso de duas funções, a saber, _extrair_conteudo() e _extrair_nome_coluna()\n",
        "    # Assim, podemos compreender que dentro da função __init__() podemos ter também atributos que se constituem\n",
        "    # por meio das funções passadas, como se essa fosse responsável por o preencher.\n",
        "\n",
        "    # Uma outra característica particular nesse contexto é notar que as funções que visam extrair o conteúdo,\n",
        "    # o nome da coluna e as colunas propriamente ditas apresentam um underline em seu início. Isso simboliza que\n",
        "    # tais funções são próprias do objeto em questão, não podendo ser usadas além dele; ou seja, denota ser funções\n",
        "    # que tanto lhe constituem quanto servem apenas a ele.\n",
        "\n",
        "  def _extrair_conteudo(self):\n",
        "\n",
        "    conteudo = None # Estou passando o None de início porque, caso não haja conteúdo,\n",
        "                    # já estou preparando o meu código para esse cenário, para que ele não\n",
        "                    # incorra em algum erro.\n",
        "\n",
        "    with open(file = self.arquivo, mode=\"r\", encoding=\"utf8\") as arquivo:\n",
        "      conteudo = arquivo.readlines() # Estou lendo linha a linha.\n",
        "    return conteudo\n",
        "\n",
        "  def _extrair_nome_coluna(self):\n",
        "\n",
        "    return self.conteudo[0].strip().split(sep=\",\") # Extraindo o nome das colunas, cortanto os \"/n\" que vem por padrão e dividindo a lista então formada a partir da \",\".\n",
        "\n",
        "  def _extrair_coluna(self, indice_coluna : str):\n",
        "\n",
        "    coluna = list() # Criando uma lista.\n",
        "\n",
        "    for linha in self.conteudo:\n",
        "\n",
        "      conteudo_linha = linha.strip().split(sep=\",\") # Extraindo o nome do conteudo, cortanto os \"/n\" que vem por padrão e dividindo a lista então formada a partir da \",\".\n",
        "      coluna.append(conteudo_linha[indice_coluna])\n",
        "\n",
        "    coluna.pop(0) # Excluindo a primeira coluna referente ao o que seria o cabeçalho do dataframe.\n",
        "    return coluna\n",
        "\n",
        "\n",
        "\n"
      ],
      "metadata": {
        "id": "OxhnhI8Z5xWh"
      },
      "execution_count": 12,
      "outputs": []
    },
    {
      "cell_type": "code",
      "source": [
        "arquivo_banco = ArquivoCSV(arquivo=\"./banco.csv\")"
      ],
      "metadata": {
        "id": "t-MvYRDjrT4i"
      },
      "execution_count": 13,
      "outputs": []
    },
    {
      "cell_type": "code",
      "source": [
        "print(arquivo_banco)"
      ],
      "metadata": {
        "colab": {
          "base_uri": "https://localhost:8080/"
        },
        "id": "LNeCqvzrri9T",
        "outputId": "bc4a16d5-41aa-4df8-e657-68c0367e91a2"
      },
      "execution_count": 14,
      "outputs": [
        {
          "output_type": "stream",
          "name": "stdout",
          "text": [
            "<__main__.ArquivoCSV object at 0x7d755b2f46d0>\n"
          ]
        }
      ]
    },
    {
      "cell_type": "code",
      "source": [
        "print(arquivo_banco.colunas)"
      ],
      "metadata": {
        "colab": {
          "base_uri": "https://localhost:8080/"
        },
        "id": "e66YEMpIr_Bc",
        "outputId": "390f87bf-e992-4dad-cfd3-2cf379a620e3"
      },
      "execution_count": 15,
      "outputs": [
        {
          "output_type": "stream",
          "name": "stdout",
          "text": [
            "['age', ' job', ' marital', ' education', ' default', ' balance', ' housing', ' loan']\n"
          ]
        }
      ]
    },
    {
      "cell_type": "code",
      "source": [
        "print(arquivo_banco.conteudo)"
      ],
      "metadata": {
        "colab": {
          "base_uri": "https://localhost:8080/"
        },
        "id": "IKBe3SkIxG0Q",
        "outputId": "432f378f-c7e6-4330-f42b-00630bf6aff7"
      },
      "execution_count": 16,
      "outputs": [
        {
          "output_type": "stream",
          "name": "stdout",
          "text": [
            "['age, job, marital, education, default, balance, housing, loan\\n', '30, unemployed, married, primary, no, 1787, no, no\\n', '33, services, married, secondary, no, 4789, yes, yes\\n', '35, management, single, tertiary, no, 1350, yes, no\\n', '38, management, married, tertiary, no, 1476, yes, yes\\n', '59, blue-collar, married, secondary, no, 8, yes, no\\n', '35, management, single, tertiary, no, 747, no, no\\n', '41, entrepreneur, married, tertiary, no, 221, yes, no\\n']\n"
          ]
        }
      ]
    },
    {
      "cell_type": "markdown",
      "source": [
        "Quando imprimimos o conteúdo do arquivo, podemos notar como que esse se estrutura, quando lido, a partir de um arquivo CSV. A primeira linha sempre é referente ao cabeçalho daquele DataFrame, sendo separado por uma outra linha por meio do \"/n\", sendo justamente esse motivo que passamos a função strip(), a qual tem como funcionalidade cortar esse \"/n\" do código."
      ],
      "metadata": {
        "id": "eq-yBlGHxe7s"
      }
    },
    {
      "cell_type": "code",
      "source": [
        "job = arquivo_banco._extrair_coluna(indice_coluna=1)\n",
        "job"
      ],
      "metadata": {
        "colab": {
          "base_uri": "https://localhost:8080/"
        },
        "id": "RLqjHxEFsCk0",
        "outputId": "a76a766a-bb28-416f-849a-938577b56712"
      },
      "execution_count": 17,
      "outputs": [
        {
          "output_type": "execute_result",
          "data": {
            "text/plain": [
              "[' unemployed',\n",
              " ' services',\n",
              " ' management',\n",
              " ' management',\n",
              " ' blue-collar',\n",
              " ' management',\n",
              " ' entrepreneur']"
            ]
          },
          "metadata": {},
          "execution_count": 17
        }
      ]
    },
    {
      "cell_type": "code",
      "source": [
        "education = arquivo_banco._extrair_coluna(indice_coluna=3)\n",
        "education"
      ],
      "metadata": {
        "colab": {
          "base_uri": "https://localhost:8080/"
        },
        "id": "CjIYnzDKtqCu",
        "outputId": "0b5c9e6b-663c-44fc-d517-2fe80cb2c529"
      },
      "execution_count": 18,
      "outputs": [
        {
          "output_type": "execute_result",
          "data": {
            "text/plain": [
              "[' primary',\n",
              " ' secondary',\n",
              " ' tertiary',\n",
              " ' tertiary',\n",
              " ' secondary',\n",
              " ' tertiary',\n",
              " ' tertiary']"
            ]
          },
          "metadata": {},
          "execution_count": 18
        }
      ]
    },
    {
      "cell_type": "markdown",
      "source": [
        "Percebeu o que está acontecendo aqui? Eu crio um objeto a partir do momento em que passo um parâmetro para a classe e a atribuo a uma variável qualquer, que passará a ser o objeto. Essa classe abrigará elementos que irão caracterizar a classe, que são os atributos e seus métodos. Lembrando, como no exemplo acima demonstra, que os atributos também podem ser formados a partir do uso de métodos."
      ],
      "metadata": {
        "id": "Z3krBZ0NwCrz"
      }
    },
    {
      "cell_type": "markdown",
      "source": [
        "# Herança"
      ],
      "metadata": {
        "id": "hwWPJvuQP5DL"
      }
    },
    {
      "cell_type": "markdown",
      "source": [
        "Definição: Uma especialização de uma classe.\n",
        "\n",
        "Vejamos como trabalhamos com a herança em termos de código.\n",
        "\n"
      ],
      "metadata": {
        "id": "wCkLMXv3QA7P"
      }
    },
    {
      "cell_type": "markdown",
      "source": [
        "    class NomeClasse(object):\n",
        "\n",
        "      def __init__(self, params):\n",
        "        ...\n",
        "\n",
        "    class ClasseEspecializada(NomeClasse):\n",
        "\n",
        "      def __init__(self, params):\n",
        "        supper().__init__(self, params)\n",
        "        self.atributo3 = ...\n",
        "        self.atributo4 = ...\n",
        "      \n",
        "      def metodo3(self, params):\n",
        "        ...\n",
        "\n",
        "      def metodo4(self, params):\n",
        "        ...\n",
        "\n"
      ],
      "metadata": {
        "id": "uwzDtySkQR0K"
      }
    },
    {
      "cell_type": "markdown",
      "source": [
        "O que permite a conexão da classe filha com a classe mãe são tanto o método supper(), que inicia o método mágico da classe principal, quanto passar o nome da classe dentro do parênteses da classe filha.\n",
        "\n",
        "Vejamos um exemplo de fazer isso \"codando\":"
      ],
      "metadata": {
        "id": "32QwbBzWRBsS"
      }
    },
    {
      "cell_type": "code",
      "source": [
        "from time import sleep\n",
        "\n",
        "class Pessoa(object):\n",
        "\n",
        "  def __init__(self, nome: str, idade: int, documento: str = None): # Dentro da função _init_ eu digo que o parâmetro documento também pode ser\n",
        "                                                                  # None, pois pode haver cenários em que a pessoa não o tem. Assim, não incorro\n",
        "                                                                  # no risco de meu código dar problema.\n",
        "\n",
        "                                                                  # Importante lembrar que são dois underlines entre o init e str, em cada lado;\n",
        "                                                                  # não apenas um.\n",
        "\n",
        "    self.nome = nome\n",
        "    self.idade = idade\n",
        "    self.documento = documento\n",
        "\n",
        "  def dormir(self, horas: int) -> None:\n",
        "\n",
        "    for hora in range(1, horas + 1):\n",
        "      print(f\"Dormido por {hora} horas\")\n",
        "      sleep(1)\n",
        "\n",
        "  def falar(self, texto: str) -> None:\n",
        "\n",
        "    print(texto)\n",
        "\n",
        "  def __str__(self) -> str :\n",
        "\n",
        "    return f\"{self.nome}, {self.idade} anos e número do documento {self.documento}\"\n",
        "\n",
        "class Universidade(object):\n",
        "\n",
        "  def __init__(self, nome: str):\n",
        "    self.nome = nome\n",
        "\n",
        "class Estudante(Pessoa):\n",
        "\n",
        "  def __init__(self, nome: str, idade: int, documento: str, universidade = Universidade): # Função que inicializará o objeto. Importante notar que podemos passar como parâmetro uma outra classe,\n",
        "                                                                                          # que aqui é Universidade.\n",
        "\n",
        "    super().__init__(nome = nome, idade = idade, documento = documento) # Conectando a classe estudante à classe Pessoa, bem como aliando\n",
        "                                                                        # as informações, referente ao nome da universidade, oriundas da classe\n",
        "                                                                        # Universidade.\n",
        "    self.universidade = universidade"
      ],
      "metadata": {
        "id": "ZyQWEtEGtyRR"
      },
      "execution_count": 25,
      "outputs": []
    },
    {
      "cell_type": "code",
      "source": [
        "usp = Universidade(nome=\"Universidade de São Paulo\")\n",
        "\n",
        "tinho = Estudante(nome=\"Tinho\", idade = 28, documento = 456, universidade = usp)"
      ],
      "metadata": {
        "id": "8V__Fpp9WVES"
      },
      "execution_count": 26,
      "outputs": []
    },
    {
      "cell_type": "code",
      "source": [
        "print(tinho.universidade.nome)"
      ],
      "metadata": {
        "colab": {
          "base_uri": "https://localhost:8080/"
        },
        "id": "KmKYhFffX_pm",
        "outputId": "1aed7391-e8ed-4521-eae8-593d630e41db"
      },
      "execution_count": 27,
      "outputs": [
        {
          "output_type": "stream",
          "name": "stdout",
          "text": [
            "Universidade de São Paulo\n"
          ]
        }
      ]
    },
    {
      "cell_type": "markdown",
      "source": [
        "# Exercicio"
      ],
      "metadata": {
        "id": "qpruP2ibZ4QX"
      }
    },
    {
      "cell_type": "code",
      "source": [
        "%%writefile carros.csv\n",
        "id,valor_venda,valor_manutencao,portas,pessoas,porta_malas\n",
        "1,vhigh,med,2,2,small\n",
        "2,med,vhigh,2,2,small\n",
        "5,low,high,2,2,small\n",
        "6,low,high,4,4,big\n",
        "7,low,high,4,4,big\n",
        "8,low,med,2,2,small\n",
        "9,low,med,2,2,small\n",
        "10,low,med,2,2,small\n",
        "11,low,med,4,4,big\n",
        "12,low,low,2,2,small\n",
        "13,low,low,4,4,small\n",
        "14,low,low,4,4,med\n",
        "\n"
      ],
      "metadata": {
        "colab": {
          "base_uri": "https://localhost:8080/"
        },
        "id": "CdTHsOn4YDNN",
        "outputId": "62cc593d-69f8-4cfb-c4de-7a8a9b1679fb"
      },
      "execution_count": 28,
      "outputs": [
        {
          "output_type": "stream",
          "name": "stdout",
          "text": [
            "Writing carros.csv\n"
          ]
        }
      ]
    },
    {
      "cell_type": "code",
      "source": [
        "%%writefile musica.txt\n",
        "Roda Viva\n",
        "Chico Buarque\n",
        "Tem dias que a gente se sente\n",
        "Como quem partiu ou morreu\n",
        "A gente estancou de repente\n",
        "Ou foi o mundo então que cresceu\n",
        "A gente quer ter voz ativa\n",
        "No nosso destino mandar\n",
        "Mas eis que chega a roda viva\n",
        "E carrega o destino pra lá\n",
        "Roda mundo, roda-gigante\n",
        "Roda moinho, roda pião\n",
        "O tempo rodou num instante\n",
        "Nas voltas do meu coração\n",
        "A gente vai contra a corrente\n",
        "Até não poder resistir\n",
        "Na volta do barco é que sente\n",
        "O quanto deixou de cumprir\n",
        "Faz tempo que a gente cultiva\n",
        "A mais linda roseira que há\n",
        "Mas eis que chega a roda viva\n",
        "E carrega a roseira pra lá\n",
        "Roda mundo, roda-gigante\n",
        "Roda moinho, roda pião"
      ],
      "metadata": {
        "colab": {
          "base_uri": "https://localhost:8080/"
        },
        "id": "i7ztl6x3aD5i",
        "outputId": "158b9a74-81cc-4b4a-bfe3-ea97093fc9b0"
      },
      "execution_count": 29,
      "outputs": [
        {
          "output_type": "stream",
          "name": "stdout",
          "text": [
            "Writing musica.txt\n"
          ]
        }
      ]
    },
    {
      "cell_type": "markdown",
      "source": [
        "Classe que lê texto:"
      ],
      "metadata": {
        "id": "hqj7rBzHaglo"
      }
    },
    {
      "cell_type": "markdown",
      "source": [
        "**Exercício 1:**"
      ],
      "metadata": {
        "id": "QKlfIHe-uKAa"
      }
    },
    {
      "cell_type": "code",
      "source": [
        "class ArquivoTexto(object):\n",
        "\n",
        "  def __init__(self, arquivo: str):\n",
        "\n",
        "\n",
        "    self.arquivo = arquivo # Atributo que forma o objeto, que é o própriro arquivo.\n",
        "    self.conteudo = self._extrair_conteudo() # Atributo relativo ao conteúdo do arquivo,\n",
        "                                             # formado por meio de uma função, que pode ser vista.\n",
        "\n",
        "\n",
        "\n",
        "  def _extrair_conteudo(self):\n",
        "\n",
        "    conteudo = None # Estou passando o None de início porque, caso não haja conteúdo,\n",
        "                    # já estou preparando o meu código para esse cenário, para que ele não\n",
        "                    # incorra em algum erro.\n",
        "\n",
        "    conteudo = list() # Criando uma lista que armazenará o texto.\n",
        "\n",
        "    with open(file = self.arquivo, mode=\"r\", encoding=\"utf8\") as arquivo:\n",
        "\n",
        "      conteudo = arquivo.readlines() # Estou lendo linha a linha.\n",
        "\n",
        "\n",
        "    return conteudo # Retornando o conteúdo.\n",
        "\n",
        "\n",
        "\n",
        "  def _extrair_linha(self, numero_linha: int):\n",
        "\n",
        "\n",
        "    return self.conteudo[numero_linha - 1] # Estou dizendo que essa função me retorna a linha\n",
        "                                           # desejada, passando para tanto a variável que abriga essa lista\n",
        "                                           # e dizendo qual linha desejo. Eu escrevi desse modo, porque o Python\n",
        "                                           # opera a partir do indice 0, que é compreendido como o que usualmente seria 1.\n",
        "                                           # Assim, quando escrevo 10 como número de linha, mas ele subtrai por 1, estarei pegando\n",
        "                                           # o nono elemento da lista.\n",
        "\n",
        "\n",
        "\n",
        "\n"
      ],
      "metadata": {
        "id": "vVTGhBRNaVJL"
      },
      "execution_count": 46,
      "outputs": []
    },
    {
      "cell_type": "code",
      "source": [
        "arquivo_texto = ArquivoTexto(\"musica.txt\")\n",
        "\n",
        "numero_linha = 10\n",
        "\n",
        "print(arquivo_texto._extrair_linha(numero_linha=numero_linha))\n",
        "\n",
        "print(arquivo_texto.conteudo)"
      ],
      "metadata": {
        "colab": {
          "base_uri": "https://localhost:8080/"
        },
        "id": "wCoHToQFe2vk",
        "outputId": "ee5e20a3-aabb-42f7-f0e9-7711d6b2ab16"
      },
      "execution_count": 50,
      "outputs": [
        {
          "output_type": "stream",
          "name": "stdout",
          "text": [
            "E carrega o destino pra lá\n",
            "\n",
            "['Roda Viva\\n', 'Chico Buarque\\n', 'Tem dias que a gente se sente\\n', 'Como quem partiu ou morreu\\n', 'A gente estancou de repente\\n', 'Ou foi o mundo então que cresceu\\n', 'A gente quer ter voz ativa\\n', 'No nosso destino mandar\\n', 'Mas eis que chega a roda viva\\n', 'E carrega o destino pra lá\\n', 'Roda mundo, roda-gigante\\n', 'Roda moinho, roda pião\\n', 'O tempo rodou num instante\\n', 'Nas voltas do meu coração\\n', 'A gente vai contra a corrente\\n', 'Até não poder resistir\\n', 'Na volta do barco é que sente\\n', 'O quanto deixou de cumprir\\n', 'Faz tempo que a gente cultiva\\n', 'A mais linda roseira que há\\n', 'Mas eis que chega a roda viva\\n', 'E carrega a roseira pra lá\\n', 'Roda mundo, roda-gigante\\n', 'Roda moinho, roda pião\\n']\n"
          ]
        }
      ]
    },
    {
      "cell_type": "markdown",
      "source": [
        "**Exercício 2:**"
      ],
      "metadata": {
        "id": "1GnJ6-5ZuSet"
      }
    },
    {
      "cell_type": "code",
      "source": [
        "class ArquivoCarroCSV(ArquivoTexto):    # Passando como objeto outra classe, para fazer\n",
        "                                        # com que essa clase herde atributos e funções da classe Arquivo Texto,\n",
        "                                        # sem precisar criar tais funções aqui, uma vez que já foram criadas.\n",
        "\n",
        "  def __init__(self, arquivo : str ):   # Iniciando a classe, passando como parâmetro o arquivo.\n",
        "\n",
        "    super().__init__(arquivo = arquivo) # Estabelecendo a relação de herança com a classe ArquivoTexto.\n",
        "\n",
        "    self.colunas = self._extrair_nome_coluna() # Definindo o atributo colunas, por meio da função que\n",
        "                                               # extrai cada coluna.\n",
        "\n",
        "\n",
        "\n",
        "  def _extrair_nome_coluna(self):\n",
        "\n",
        "    return self.conteudo[0].strip().split(sep=\",\") # Estou indicando que do conteúdo, eu só quero pegar os itens que ficam na primeira linha,\n",
        "                                                   # os quais são o nome para cada item da tabela, seu cabeçalho, podemos pensar assim.\n",
        "\n",
        "  def _extrair_linha(self, numero_linha = int):\n",
        "\n",
        "    linha = self.conteudo[numero_linha -1]  # Do conteúdo, estou dizendo qual linha eu quero selecionar.\n",
        "                                            # Essa notação, que lembra como se eu estivesse querendo selecionar algo\n",
        "                                            # proveniente de uma lista é verdadeira, isto é, o conteúdo do arquivo CSV passado\n",
        "                                            # está armazenado num tipo de lista, por meio da classe mãe ArquivoTexto, que lê os arquivos\n",
        "                                            # e os segmenta dessa forma.\n",
        "\n",
        "    linha = linha.strip().split(sep=\",\")\n",
        "\n",
        "    return linha\n",
        "\n"
      ],
      "metadata": {
        "id": "Z_IdXV0HfXtV"
      },
      "execution_count": 104,
      "outputs": []
    },
    {
      "cell_type": "code",
      "source": [
        "arquivo_carro_csv = ArquivoCarroCSV(\"./carros.csv\")\n",
        "\n",
        "print(arquivo_carro_csv.colunas)"
      ],
      "metadata": {
        "colab": {
          "base_uri": "https://localhost:8080/"
        },
        "id": "ZirtRJ2r4Six",
        "outputId": "572c6aaf-b17c-4860-bcd1-bd4e7fa46e5e"
      },
      "execution_count": 105,
      "outputs": [
        {
          "output_type": "stream",
          "name": "stdout",
          "text": [
            "['id', 'valor_venda', 'valor_manutencao', 'portas', 'pessoas', 'porta_malas']\n"
          ]
        }
      ]
    },
    {
      "cell_type": "code",
      "source": [
        "numero_linha = 10\n",
        "print(arquivo_carro_csv._extrair_linha(numero_linha=numero_linha))"
      ],
      "metadata": {
        "colab": {
          "base_uri": "https://localhost:8080/"
        },
        "id": "0ry5a2_34U09",
        "outputId": "f494339e-e9d3-42af-c896-a78a6bc345a9"
      },
      "execution_count": 106,
      "outputs": [
        {
          "output_type": "stream",
          "name": "stdout",
          "text": [
            "['11', 'low', 'med', '4', '4', 'big']\n"
          ]
        }
      ]
    },
    {
      "cell_type": "code",
      "source": [],
      "metadata": {
        "id": "5xiwTH1xBL9I"
      },
      "execution_count": null,
      "outputs": []
    }
  ]
}