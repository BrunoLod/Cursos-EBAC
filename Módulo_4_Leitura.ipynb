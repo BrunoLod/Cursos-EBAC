{
  "nbformat": 4,
  "nbformat_minor": 0,
  "metadata": {
    "colab": {
      "provenance": []
    },
    "kernelspec": {
      "name": "python3",
      "display_name": "Python 3"
    },
    "language_info": {
      "name": "python"
    }
  },
  "cells": [
    {
      "cell_type": "code",
      "execution_count": null,
      "metadata": {
        "colab": {
          "base_uri": "https://localhost:8080/"
        },
        "id": "1N92_rgF34E0",
        "outputId": "7dd53e2f-f410-4d23-eca9-71c9e97c18a2"
      },
      "outputs": [
        {
          "output_type": "stream",
          "name": "stdout",
          "text": [
            "Tinho\n"
          ]
        }
      ],
      "source": [
        "name = \"Tinho\"\n",
        "print(name)"
      ]
    },
    {
      "cell_type": "code",
      "source": [
        "type(name)"
      ],
      "metadata": {
        "colab": {
          "base_uri": "https://localhost:8080/"
        },
        "id": "c4Uhw_O838AL",
        "outputId": "f9f28b0c-672f-4023-c814-d03a34218dc1"
      },
      "execution_count": null,
      "outputs": [
        {
          "output_type": "execute_result",
          "data": {
            "text/plain": [
              "str"
            ]
          },
          "metadata": {},
          "execution_count": 2
        }
      ]
    },
    {
      "cell_type": "code",
      "source": [
        "# função que gera um banco de dados qualquer\n",
        "# a partir da máquina provisionada pelo google\n",
        "\n",
        "%%writefile banco.csv\n",
        "age,job,marital,education,default,balance,housing,loan\n",
        "30,unemployed,married,primary,no,1787,no,no\n",
        "33,services,married,secondary,no,4789,yes,yes\n",
        "35,management,single,tertiary,no,1350,yes,no\n",
        "30,management,married,tertiary,no,1476,yes,yes\n",
        "59,blue-collar,married,secondary,no,0,yes,no\n",
        "35,management,single,tertiary,no,747,no,no\n",
        "36,self-employed,married,tertiary,no,307,yes,no\n",
        "39,technician,married,secondary,no,147,yes,no\n",
        "41,entrepreneur,married,tertiary,no,221,yes,no\n",
        "43,services,married,primary,no,-88,yes,yes\n"
      ],
      "metadata": {
        "colab": {
          "base_uri": "https://localhost:8080/"
        },
        "id": "eCQ2327v4MQW",
        "outputId": "150936cf-69fa-4bff-ad64-f8d8e342fb8b"
      },
      "execution_count": null,
      "outputs": [
        {
          "output_type": "stream",
          "name": "stdout",
          "text": [
            "Writing banco.csv\n"
          ]
        }
      ]
    },
    {
      "cell_type": "markdown",
      "source": [
        "# Leitura\n"
      ],
      "metadata": {
        "id": "m3LblUUh9M9r"
      }
    },
    {
      "cell_type": "markdown",
      "source": [
        "**Comando para ler todo o conteúdo (Read):**\n",
        "\n",
        "Para ler um arquivo, temos que antes abri-lo, na medida que fazemos isso por meio da função nativa do python *with open*, a qual como seus parâmetros devemos passar:\n",
        "\n",
        "*   a localização de onde se encontra o arquivo;\n",
        "\n",
        "*   o modo que queremos abri-lo, quer seja para leitura ou escrita\n",
        "(aqui será para leitura e, por isso, coloca-se o \"r\", que vem de read);\n",
        "\n",
        "*  decodificação, por meio do encoding, que normalmente passa-se o\n",
        "valor \"utf8\" para esse parâmetro, já que ele, de forma geral, apresenta uma boa capacidade de decodificação.\n",
        "\n",
        "Depois de passado os parâmetros da função with open, podemos apelidar o arquivo que estaremos abrindo, que, no caso, estarei chamando justamente de arquivo. Eu posso reparar que dentro dessa função eu estou dizendo para a variável conteúdo armazenar a leitura, a partir da função *read()*, do arquivo."
      ],
      "metadata": {
        "id": "QWUofGeu9TCS"
      }
    },
    {
      "cell_type": "code",
      "source": [
        "conteudo = None\n",
        "\n",
        "with open(file=\"./banco.csv\", mode=\"r\", encoding=\"utf8\") as arquivo:\n",
        "  conteudo = arquivo.read()\n",
        "\n",
        "print(conteudo)"
      ],
      "metadata": {
        "colab": {
          "base_uri": "https://localhost:8080/"
        },
        "id": "qYDPZDol9SXm",
        "outputId": "27ac70bf-8905-49a5-8281-4da4317bef98"
      },
      "execution_count": null,
      "outputs": [
        {
          "output_type": "stream",
          "name": "stdout",
          "text": [
            "age,job,marital,education,default,balance,housing,loan\n",
            "30,unemployed,married,primary,no,1787,no,no\n",
            "33,services,married,secondary,no,4789,yes,yes\n",
            "35,management,single,tertiary,no,1350,yes,no\n",
            "30,management,married,tertiary,no,1476,yes,yes\n",
            "59,blue-collar,married,secondary,no,0,yes,no\n",
            "35,management,single,tertiary,no,747,no,no\n",
            "36,self-employed,married,tertiary,no,307,yes,no\n",
            "39,technician,married,secondary,no,147,yes,no\n",
            "41,entrepreneur,married,tertiary,no,221,yes,no\n",
            "43,services,married,primary,no,-88,yes,yes\n",
            "\n"
          ]
        }
      ]
    },
    {
      "cell_type": "markdown",
      "source": [
        "**Comando para ler linha a linha (readline) :**\n",
        "\n",
        "Diferente do read(), o comando readline(), é usado para se ler arquivos que sejam considerados grandes, os quais são, em média, maior ou igual a 200 megas. O redline consegue ler arquivos, porque ele não os lê por inteiro, mas, como seu nome indica, linha a linha.\n",
        "\n",
        "Dentro da função with open, utilizando o readline(), eu utilizo o ciclo while, como forma de executar um processo de leitura de linha a linha. Nota-se que eu armazeno a linha lida na variável conteúdo, que formará uma lista e adiciono as novas linhas lidas por meio do append. Vale lembrar que o ciclo while é mais simples do que o for, uma vez que não precisa de um alcança ou valores definidos para operar, operando, não obstante, enquanto a condição for verdadeira ou não vazia.\n",
        "\n"
      ],
      "metadata": {
        "id": "fzxtRWFvBqLY"
      }
    },
    {
      "cell_type": "code",
      "source": [
        "conteudo = []\n",
        "\n",
        "with open(file=\"./banco.csv\", mode=\"r\", encoding=\"utf8\") as arquivo:\n",
        "  linha = arquivo.readline() # Aqui estou lendo a primeira linha.\n",
        "\n",
        "  while linha:\n",
        "    conteudo.append(linha)\n",
        "    linha = arquivo.readline() # Aqui estarei completando o laço while, que, terá fim, ao ler a última linha\n",
        "                               # a qual trará um valor vazio \"None\".\n",
        "\n",
        "print(conteudo)"
      ],
      "metadata": {
        "colab": {
          "base_uri": "https://localhost:8080/"
        },
        "id": "foBZcqy370Ip",
        "outputId": "d999217b-6b0e-439e-fd26-9854702ed13d"
      },
      "execution_count": null,
      "outputs": [
        {
          "output_type": "stream",
          "name": "stdout",
          "text": [
            "['age,job,marital,education,default,balance,housing,loan\\n', '30,unemployed,married,primary,no,1787,no,no\\n', '33,services,married,secondary,no,4789,yes,yes\\n', '35,management,single,tertiary,no,1350,yes,no\\n', '30,management,married,tertiary,no,1476,yes,yes\\n', '59,blue-collar,married,secondary,no,0,yes,no\\n', '35,management,single,tertiary,no,747,no,no\\n', '36,self-employed,married,tertiary,no,307,yes,no\\n', '39,technician,married,secondary,no,147,yes,no\\n', '41,entrepreneur,married,tertiary,no,221,yes,no\\n', '43,services,married,primary,no,-88,yes,yes\\n']\n"
          ]
        }
      ]
    },
    {
      "cell_type": "markdown",
      "source": [
        "**Realizando a leitura de apenas uma coluna do arquivo :**\n",
        "\n"
      ],
      "metadata": {
        "id": "wmn7G6tONRHb"
      }
    },
    {
      "cell_type": "code",
      "source": [
        "for linha in conteudo:\n",
        "  print(linha)"
      ],
      "metadata": {
        "colab": {
          "base_uri": "https://localhost:8080/"
        },
        "id": "aWHwIcQ4gG0z",
        "outputId": "c812e05b-0562-465f-ce7f-d9e861e2637c"
      },
      "execution_count": null,
      "outputs": [
        {
          "output_type": "stream",
          "name": "stdout",
          "text": [
            "age,job,marital,education,default,balance,housing,loan\n",
            "\n",
            "30,unemployed,married,primary,no,1787,no,no\n",
            "\n",
            "33,services,married,secondary,no,4789,yes,yes\n",
            "\n",
            "35,management,single,tertiary,no,1350,yes,no\n",
            "\n",
            "30,management,married,tertiary,no,1476,yes,yes\n",
            "\n",
            "59,blue-collar,married,secondary,no,0,yes,no\n",
            "\n",
            "35,management,single,tertiary,no,747,no,no\n",
            "\n",
            "36,self-employed,married,tertiary,no,307,yes,no\n",
            "\n",
            "39,technician,married,secondary,no,147,yes,no\n",
            "\n",
            "41,entrepreneur,married,tertiary,no,221,yes,no\n",
            "\n",
            "43,services,married,primary,no,-88,yes,yes\n",
            "\n"
          ]
        }
      ]
    },
    {
      "cell_type": "code",
      "source": [
        "idades = []\n",
        "\n",
        "with open(file=\"./banco.csv\", mode=\"r\", encoding=\"utf8\") as arquivo:\n",
        "  linha = arquivo.readline() # Lê o cabeçalho do arquivo.\n",
        "  linha = arquivo.readline() # Lê a primeira linha.\n",
        "\n",
        "\n",
        "  while linha:\n",
        "\n",
        "    linha_separada = linha.split(sep=\",\") # Aqui estou quebrando as strings do conjunto de dados nas vírgulas e as armazenando numa nova variável.\n",
        "    idade = linha_separada[0]             # Aqui estou armazenando apenas a coluna de meu interesse.\n",
        "    idade = int(idade)                    # Aqui estou definindo para ser uma variável do tipo int, já que se trata, nesse caso, das idades.\n",
        "    idades.append(idade)                  # Aqui estou adicionando à lista idades as linhas com as idades correspondentes.\n",
        "    linha = arquivo.readline()            # Aqui estou completando o ciclo while, que terá fim quando não houver linha para ser lida, retornando o valor de None, vazio.\n",
        "\n",
        "print(idades)"
      ],
      "metadata": {
        "id": "E49BD9neMhdh",
        "colab": {
          "base_uri": "https://localhost:8080/"
        },
        "outputId": "7a3e4208-ffab-4801-8a42-97e187d587ac"
      },
      "execution_count": null,
      "outputs": [
        {
          "output_type": "stream",
          "name": "stdout",
          "text": [
            "[30, 33, 35, 30, 59, 35, 36, 39, 41, 43]\n"
          ]
        }
      ]
    },
    {
      "cell_type": "markdown",
      "source": [
        "# Escrita"
      ],
      "metadata": {
        "id": "FaYAU3jhMy1b"
      }
    },
    {
      "cell_type": "markdown",
      "source": [
        "Dentro do escopo da escrita, temos três modos com os quais podemos agir:\n",
        "\n",
        "\n",
        "*   r: abre o arquivo para leitura.\n",
        "*   w: abre o arquivo a escrita, mas que, por sua vez, sobrescreve o arquivo original.\n",
        "*   a: abre o arquivo para acrescentar algo, não o sobreeescrevendo.\n",
        "\n",
        "\n"
      ],
      "metadata": {
        "id": "UKySMaE9Bg4C"
      }
    },
    {
      "cell_type": "markdown",
      "source": [
        "# Write"
      ],
      "metadata": {
        "id": "G56282KWOQST"
      }
    },
    {
      "cell_type": "markdown",
      "source": [
        "Aqui estou abrindo e criando um novo arquivo csv, que será idades. Quando dou o apelido do arquivo como \"fp\", quero dizer que ele é um file point, embora que eu possa encontrá-lo também apenas como f, indicando file.\n",
        "\n",
        "Interessante notar que quando eu escrevo \"as fp\", estou dizendo que tudo o que está ( ) é simbolizado justamente pelo f; por isso que uso **fp.write(linha)**, pois estou falando \"*arquivo, escreve essa linha por favor*\"\n",
        "\n",
        "Para realizar a escrita do novo arquivo das idades linha por linha, eu crio um ciclo for, no qual a variável idade vai preenhcer toda a variável idades, que se constitui por ser a lista das idades extraidas do arquivo banco.csv. Antes de eu escrevê-la de fato, eu faço a sua conversão de int, para str, dado que no write só é possível escrever strings."
      ],
      "metadata": {
        "id": "Ov5L91OjbczN"
      }
    },
    {
      "cell_type": "code",
      "source": [
        "with open(file=\"idades.csv\", mode=\"w\", encoding=\"utf8\") as fp:\n",
        "  idade = \"idade\" + \"\\n\" # Como todo arquivo csv possui cabeçalho, aqui estou o criando.\n",
        "  fp.write(linha)        # Aqui estou de fato escrevendo, por meio do método write, o cabeçalho que antes havia criado.\n",
        "  for idade in idades:\n",
        "    linha = str(idade) + \"\\n\"\n",
        "    fp.write(linha)\n"
      ],
      "metadata": {
        "id": "Vd989sc7M2fZ"
      },
      "execution_count": null,
      "outputs": []
    },
    {
      "cell_type": "markdown",
      "source": [
        "#Função"
      ],
      "metadata": {
        "id": "4tJQpehXZi8P"
      }
    },
    {
      "cell_type": "markdown",
      "source": [
        "A função é um bloco de código que somente é executado quando chamado. Por meio dela conseguimos criar uma estrutura genérica, que servirá para quaisquer valores pertinentes.\n",
        "\n",
        "Entendo a função que escrevi:\n",
        "\n",
        "A função começa com o uso da palavra \"def\", que indica a sua definição, essa primeira linha é conhecida como a assinatura da função. Não obstante, a função demanda o uso de parâmetros para a sua operação, que coloco entre parênteses. Ainda, algo que é recomendado como boa prática é colocar o parâmetro usado e a entrada dele esperada e, por fora do \"()\", utilizando a seta, dizer o(s) retorno(s) que essa função irá trazer.\n",
        "\n",
        "Dessa forma, lendo o título dela, o tipo de entrada e saida, consigo compreender que se trata de um separador de usuario e provedor de emais, cujo valor de entrada e saida são strings. Para retornar um valor de saída de uma função, usa-se o *reuturn*."
      ],
      "metadata": {
        "id": "EbUDjq6bZpOr"
      }
    },
    {
      "cell_type": "code",
      "source": [
        "def extrair_usuario_email_provedor(email: str) -> str:\n",
        "  email_separado = email.split(sep=\"@\")\n",
        "  usuario = email_separado[0]\n",
        "  provedor = email_separado[1]\n",
        "  return usuario, provedor"
      ],
      "metadata": {
        "id": "PvAbtnwzZoA7"
      },
      "execution_count": null,
      "outputs": []
    },
    {
      "cell_type": "code",
      "source": [
        "email = \"tinholod@gmail.com\"\n",
        "\n",
        "usuario, provedor = extrair_usuario_email_provedor(email=email) # chamo a função, coloco o seu parâmetro e a o que ele se refere, a qual variável.\n",
        "\n",
        "print(usuario)\n",
        "print(provedor)"
      ],
      "metadata": {
        "id": "DPUUIK0IdlbO",
        "colab": {
          "base_uri": "https://localhost:8080/"
        },
        "outputId": "9730b8cf-06b4-4540-d262-6b936a0ed7ab"
      },
      "execution_count": null,
      "outputs": [
        {
          "output_type": "stream",
          "name": "stdout",
          "text": [
            "tinholod\n",
            "gmail.com\n"
          ]
        }
      ]
    },
    {
      "cell_type": "markdown",
      "source": [
        "**Criando um arquivo csv com o uso de função:**\n",
        "\n",
        "---\n",
        "\n"
      ],
      "metadata": {
        "id": "bn8NNxWWlej0"
      }
    },
    {
      "cell_type": "markdown",
      "source": [
        "Interessante relembrar um pouco desse código. Por que estou usando try e except ? A resposta simples é para evitar que ocorra um erro no meu código, assim se o valor for falos, ele irá operar a exceção - except -, evitando a ocorrência de um erro."
      ],
      "metadata": {
        "id": "53ntWoRRsNTu"
      }
    },
    {
      "cell_type": "code",
      "source": [
        "from pickle import TRUE\n",
        "from ast import excepthandler\n",
        "from logging import exception\n",
        "\n",
        "\n",
        "def escreve_arquivo_csv(nome: str, cabecalho: str, conteudos: list) -> bool:\n",
        "\n",
        "  try:\n",
        "\n",
        "    with open(file=nome, mode=\"w\", encoding=\"utf8\") as fp:  # Abre o arquivo e o escreve.\n",
        "\n",
        "      linha = cabecalho + \"\\n\" # Cria a linha do cabeçalho e, depois de escrita, a pula, para escrever o conteúdo do arquivo.\n",
        "      fp.write(linha)          # Escreve a linha do cabeçalho.\n",
        "\n",
        "      for conteudo in conteudos: # Estabelece um ciclo for com o qual a variável conteudo irá percorrer todos os itens que está\n",
        "                                 # nos conteúdos, executando de modo automático o procedimento de escrever linha por linha.\n",
        "\n",
        "        linha = str(conteudo) + \"\\n\" # Cria a linha para ser escrita e, quando for, a pula, para que que outra seja escrita até que não haja mais valores para tanto.\n",
        "        fp.write(linha)              # Escreve a linha referentes aos conteúdos do arquivo.\n",
        "\n",
        "  except Exception as exc: # Esse bloco é responsável por informar qual foi o erro, por isso\n",
        "                           # digo que o Exception, abreviando em exc, que irá ser imprimido pelo print, para que eu saiba qual foi o erro.\n",
        "    print(exc)\n",
        "    return False\n",
        "\n",
        "  return True\n",
        "\n"
      ],
      "metadata": {
        "id": "2OoTPK0cdusd"
      },
      "execution_count": null,
      "outputs": []
    },
    {
      "cell_type": "code",
      "source": [
        "nome = \"idade-funcao.csv\"\n",
        "cabecalho = \"idade\"\n",
        "conteudos = [20, 22, 30, 35, 40, 50, 15]\n",
        "\n",
        "escreveu_com_sucesso = escreve_arquivo_csv(nome=nome, cabecalho=cabecalho, conteudos=conteudos) # verificando se a função fora criada corretamente ou não.\n",
        "escreveu_com_sucesso"
      ],
      "metadata": {
        "colab": {
          "base_uri": "https://localhost:8080/"
        },
        "id": "BqmuJEGMsqPt",
        "outputId": "9a944e61-79ef-43fe-ef5f-d74c1f5df581"
      },
      "execution_count": null,
      "outputs": [
        {
          "output_type": "execute_result",
          "data": {
            "text/plain": [
              "True"
            ]
          },
          "metadata": {},
          "execution_count": 18
        }
      ]
    },
    {
      "cell_type": "markdown",
      "source": [
        "**Criando uma função que calcula juros:**"
      ],
      "metadata": {
        "id": "4HTRthmsW42E"
      }
    },
    {
      "cell_type": "code",
      "source": [
        "def juros_anual(valor_inicial:float, taxa_de_juros_anual:float, anos:int) -> float:\n",
        "\n",
        "  valor_final = valor_inicial\n",
        "  for ano in range(1, anos + 1):\n",
        "    valor_final = valor_final*(1 + taxa_de_juros_anual)\n",
        "  valor_final = round(valor_final, 2) # Usando a função \"round\" eu arredondo por um valor, sendo o dois o máximo de casas decimais que o valor pode ter.\n",
        "  print(f\"Para um valor inicial de R$ {valor_inicial} e uma taxa de juros anual de {taxa_de_juros_anual}, em {anos} anos você terá R$ {valor_final}\")\n",
        "  return valor_final\n",
        "\n"
      ],
      "metadata": {
        "id": "SDdoiCJIucL1"
      },
      "execution_count": null,
      "outputs": []
    },
    {
      "cell_type": "code",
      "source": [
        "valor_inicial, taxa_de_juros_anual, anos = 22000.00, 0.15, 22\n",
        "\n",
        "novo_kapital = juros_anual(valor_inicial=valor_inicial, taxa_de_juros_anual=taxa_de_juros_anual, anos=anos)\n",
        "novo_kapital"
      ],
      "metadata": {
        "colab": {
          "base_uri": "https://localhost:8080/"
        },
        "id": "hegj0h7HcB3v",
        "outputId": "81fa29d1-4d91-43dc-a548-4a7baacb9156"
      },
      "execution_count": null,
      "outputs": [
        {
          "output_type": "stream",
          "name": "stdout",
          "text": [
            "Para um valor inicial de R$ 22000.0 e uma taxa de juros anual de 0.15, em 22 anos você terá R$ 476184.41\n"
          ]
        },
        {
          "output_type": "execute_result",
          "data": {
            "text/plain": [
              "476184.41"
            ]
          },
          "metadata": {},
          "execution_count": 10
        }
      ]
    },
    {
      "cell_type": "markdown",
      "source": [
        "# Escopo"
      ],
      "metadata": {
        "id": "RczXe19H0-1x"
      }
    },
    {
      "cell_type": "markdown",
      "source": [
        "Escopo significa fronteira, um limite delineado que circunscreve elementos em torno de si. Por exemplo, poderíamos dizer que a análise de trabalhos anteriores de economia estaria dentro do escopo de uma Revisão Bibliográfica ou revisão do Estado da Arte.\n",
        "\n",
        "Acerca das variáveis, o sentido que essa palavra assume não é diferente. Quando atribuímos um valor a uma variável, criando-a, ocupamos um espaço da memória RAM, a memória de trabalho, da máquina, a qual só irá ficar vacante quando não mais a usarmos.\n",
        "\n",
        "Não obstante, quando criamos uma variável circunscrita a uma função, só podemos chamá-la para verificar o seu valor dentro da função, na forma que ela não existe, por assim dizer, fora dela. Portanto, variáveis internas de uma função só existem dentro delas, não podendo ser chamadas fora, pois, ao tentar, dará erro."
      ],
      "metadata": {
        "id": "sF7NQf5y1ECA"
      }
    },
    {
      "cell_type": "markdown",
      "source": [
        "# Exercício"
      ],
      "metadata": {
        "id": "vuK2i7xYBkRJ"
      }
    },
    {
      "cell_type": "markdown",
      "source": [
        "**1**"
      ],
      "metadata": {
        "id": "H8a9GMe1LWw7"
      }
    },
    {
      "cell_type": "code",
      "source": [
        "%%writefile carros.csv\n",
        "id,valor_venda,valor_manutencao,portas,pessoas,porta_malas\n",
        "1,vhigh,med,2,2,small\n",
        "2,med,vhigh,2,2,small\n",
        "5,low,high,2,2,small\n",
        "6,low,high,4,4,big\n",
        "7,low,high,4,4,big\n",
        "8,low,med,2,2,small\n",
        "9,low,med,2,2,small\n",
        "10,low,med,2,2,small\n",
        "11,low,med,4,4,big\n",
        "12,low,low,2,2,small\n",
        "13,low,low,4,4,small\n",
        "14,low,low,4,4,med"
      ],
      "metadata": {
        "colab": {
          "base_uri": "https://localhost:8080/"
        },
        "id": "ATYeM2N93YAF",
        "outputId": "9538d2a4-ae62-411d-ec9b-29274074a944"
      },
      "execution_count": null,
      "outputs": [
        {
          "output_type": "stream",
          "name": "stdout",
          "text": [
            "Writing carros.csv\n"
          ]
        }
      ]
    },
    {
      "cell_type": "code",
      "source": [
        "conteudo = [] # Crio uma lista para armazenar os valores do arquivo carros.csv.\n",
        "\n",
        "with open(file=\"./carros.csv\", mode=\"r\", encoding=\"utf8\") as arquivo:\n",
        "\n",
        "  linha = arquivo.readline() # Dentro da função with open, atribuo uma variável que lerá linha por linha, sendo o redline().\n",
        "\n",
        "  while linha: # Crio um ciclo ou laço while, como forma de que, enquanto existir linhas a serem lidas, ele é executado, lendo linha a linha.\n",
        "\n",
        "    conteudo.append(linha) # Adiciono as linhas lidas, por meio do append, à minha lista conteudo.\n",
        "    linha = arquivo.readline() # Leio uma nova linha até que não haja mais nenhuma.\n",
        "\n",
        "  print(conteudo) # Imprimo a lista.\n",
        "\n"
      ],
      "metadata": {
        "colab": {
          "base_uri": "https://localhost:8080/"
        },
        "id": "Yoi-5E2wCBZg",
        "outputId": "9cffe137-b842-4521-a479-cb15845a5f15"
      },
      "execution_count": null,
      "outputs": [
        {
          "output_type": "stream",
          "name": "stdout",
          "text": [
            "['id,valor_venda,valor_manutencao,portas,pessoas,porta_malas\\n', '1,vhigh,med,2,2,small\\n', '2,med,vhigh,2,2,small\\n', '5,low,high,2,2,small\\n', '6,low,high,4,4,big\\n', '7,low,high,4,4,big\\n', '8,low,med,2,2,small\\n', '9,low,med,2,2,small\\n', '10,low,med,2,2,small\\n', '11,low,med,4,4,big\\n', '12,low,low,2,2,small\\n', '13,low,low,4,4,small\\n', '14,low,low,4,4,med\\n']\n"
          ]
        }
      ]
    },
    {
      "cell_type": "code",
      "source": [
        "for linha in conteudo: # Eu fiz o ciclo for aqui para facilitar a leitura.\n",
        "  print(linha)"
      ],
      "metadata": {
        "colab": {
          "base_uri": "https://localhost:8080/"
        },
        "id": "SAuDKktIDt2R",
        "outputId": "81c1c149-9ebc-4cc4-da54-27ddb7b1bc3a"
      },
      "execution_count": null,
      "outputs": [
        {
          "output_type": "stream",
          "name": "stdout",
          "text": [
            "id,valor_venda,valor_manutencao,portas,pessoas,porta_malas\n",
            "\n",
            "1,vhigh,med,2,2,small\n",
            "\n",
            "2,med,vhigh,2,2,small\n",
            "\n",
            "5,low,high,2,2,small\n",
            "\n",
            "6,low,high,4,4,big\n",
            "\n",
            "7,low,high,4,4,big\n",
            "\n",
            "8,low,med,2,2,small\n",
            "\n",
            "9,low,med,2,2,small\n",
            "\n",
            "10,low,med,2,2,small\n",
            "\n",
            "11,low,med,4,4,big\n",
            "\n",
            "12,low,low,2,2,small\n",
            "\n",
            "13,low,low,4,4,small\n",
            "\n",
            "14,low,low,4,4,med\n",
            "\n"
          ]
        }
      ]
    },
    {
      "cell_type": "markdown",
      "source": [
        "**Extraindo os valores da venda dos carros:**"
      ],
      "metadata": {
        "id": "ZyVGMS3tFOR2"
      }
    },
    {
      "cell_type": "code",
      "source": [
        "def valor_das_vendas(arquivo=str) -> str: # Crio uma função cuja função será me retornar o valor da coluna vendas.\n",
        "\n",
        "  vendas = []\n",
        "\n",
        "  with open(file=arquivo, mode=\"r\", encoding=\"utf8\") as arquivo:\n",
        "\n",
        "    linha = arquivo.readline() # A primeira linha lê primeiramente o cabeçalho do arquivo.\n",
        "    linha = arquivo.readline() # Essa outra linha irá começar a ler as linhas após o cabeçalho.\n",
        "\n",
        "    while linha: # Realizo um ciclo while, que lerá linha a linha, enquanto sua afirmação for verdadeira, isto é, enquanto estiver linhas para serem lidas.\n",
        "\n",
        "      linha_separada = linha.split(sep=\",\") # Separo as linhas lidas através da vírgula.\n",
        "      valor_das_vendas = linha_separada[1]  # Seleciono apenas a coluna que eu quero.\n",
        "      valor_das_vendas = str(valor_das_vendas) # Transformo-a em string.\n",
        "      vendas.append(valor_das_vendas) # Adiciono o valor à lista vendas.\n",
        "      linha = arquivo.readline() # Leio a próxima linha.\n",
        "\n",
        "    print(vendas)\n",
        "\n"
      ],
      "metadata": {
        "id": "f5o8ZbQ7D5u8"
      },
      "execution_count": null,
      "outputs": []
    },
    {
      "cell_type": "code",
      "source": [
        "arquivo = \"carros.csv\"\n",
        "coluna = 1\n",
        "\n",
        "valor_das_vendas = valor_das_vendas(arquivo=arquivo)\n",
        "valor_das_vendas"
      ],
      "metadata": {
        "colab": {
          "base_uri": "https://localhost:8080/"
        },
        "id": "SwA4zhhwISMJ",
        "outputId": "20719264-28dc-4141-fba1-d8cfbe7cbc6a"
      },
      "execution_count": null,
      "outputs": [
        {
          "output_type": "stream",
          "name": "stdout",
          "text": [
            "['vhigh', 'med', 'low', 'low', 'low', 'low', 'low', 'low', 'low', 'low', 'low', 'low']\n"
          ]
        }
      ]
    },
    {
      "cell_type": "markdown",
      "source": [
        "**2**"
      ],
      "metadata": {
        "id": "c9NPAbjlLbmt"
      }
    },
    {
      "cell_type": "code",
      "source": [
        "%%writefile musica.txt\n",
        "Roda Viva\n",
        "Chico Buarque\n",
        "Tem dias que a gente se sente\n",
        "Como quem partiu ou morreu\n",
        "A gente estancou de repente\n",
        "Ou foi o mundo então que cresceu\n",
        "A gente quer ter voz ativa\n",
        "No nosso destino mandar\n",
        "Mas eis que chega a roda viva\n",
        "E carrega o destino pra lá\n",
        "Roda mundo, roda-gigante\n",
        "Roda moinho, roda pião\n",
        "O tempo rodou num instante\n",
        "Nas voltas do meu coração\n",
        "A gente vai contra a corrente\n",
        "Até não poder resistir\n",
        "Na volta do barco é que sente\n",
        "O quanto deixou de cumprir\n",
        "Faz tempo que a gente cultiva\n",
        "A mais linda roseira que há\n",
        "Mas eis que chega a roda viva\n",
        "E carrega a roseira pra lá\n",
        "Roda mundo, roda-gigante\n",
        "Roda moinho, roda pião"
      ],
      "metadata": {
        "colab": {
          "base_uri": "https://localhost:8080/"
        },
        "id": "sjX7YYV8Ifv-",
        "outputId": "7ad6cdad-2a86-477c-adc2-1b277e4623a1"
      },
      "execution_count": null,
      "outputs": [
        {
          "output_type": "stream",
          "name": "stdout",
          "text": [
            "Overwriting musica.txt\n"
          ]
        }
      ]
    },
    {
      "cell_type": "code",
      "source": [
        "conteudo = [] # Crio uma lista para armazenar os valores do arquivo carros.csv.\n",
        "\n",
        "with open(file=\"./musica.txt\", mode=\"r\", encoding=\"utf8\") as arquivo:\n",
        "\n",
        "  linha = arquivo.readline() # Dentro da função with open, atribuo uma variável que lerá linha por linha, sendo o redline().\n",
        "\n",
        "  while linha: # Crio um ciclo ou laço while, como forma de que, enquanto existir linhas a serem lidas, ele é executado, lendo linha a linha.\n",
        "\n",
        "    conteudo.append(linha) # Adiciono as linhas lidas, por meio do append, à minha lista conteudo.\n",
        "    linha = arquivo.readline() # Leio uma nova linha até que não haja mais nenhuma.\n",
        "\n",
        "  print(conteudo) # Imprimo a lista.\n"
      ],
      "metadata": {
        "colab": {
          "base_uri": "https://localhost:8080/"
        },
        "id": "IoWKlGOcZpTj",
        "outputId": "28e01461-0148-4c1c-ef0f-dafdddb83a44"
      },
      "execution_count": null,
      "outputs": [
        {
          "output_type": "stream",
          "name": "stdout",
          "text": [
            "['Roda Viva\\n', 'Chico Buarque\\n', 'Tem dias que a gente se sente\\n', 'Como quem partiu ou morreu\\n', 'A gente estancou de repente\\n', 'Ou foi o mundo então que cresceu\\n', 'A gente quer ter voz ativa\\n', 'No nosso destino mandar\\n', 'Mas eis que chega a roda viva\\n', 'E carrega o destino pra lá\\n', 'Roda mundo, roda-gigante\\n', 'Roda moinho, roda pião\\n', 'O tempo rodou num instante\\n', 'Nas voltas do meu coração\\n', 'A gente vai contra a corrente\\n', 'Até não poder resistir\\n', 'Na volta do barco é que sente\\n', 'O quanto deixou de cumprir\\n', 'Faz tempo que a gente cultiva\\n', 'A mais linda roseira que há\\n', 'Mas eis que chega a roda viva\\n', 'E carrega a roseira pra lá\\n', 'Roda mundo, roda-gigante\\n', 'Roda moinho, roda pião\\n']\n"
          ]
        }
      ]
    },
    {
      "cell_type": "code",
      "source": [
        "verso = conteudo[5]\n",
        "verso"
      ],
      "metadata": {
        "colab": {
          "base_uri": "https://localhost:8080/",
          "height": 36
        },
        "id": "rL7ydwc7llwn",
        "outputId": "6b25da71-f9d4-4c60-ec6f-55d5bcafe105"
      },
      "execution_count": null,
      "outputs": [
        {
          "output_type": "execute_result",
          "data": {
            "text/plain": [
              "'Ou foi o mundo então que cresceu\\n'"
            ],
            "application/vnd.google.colaboratory.intrinsic+json": {
              "type": "string"
            }
          },
          "metadata": {},
          "execution_count": 35
        }
      ]
    },
    {
      "cell_type": "code",
      "source": [
        "for linha in conteudo:\n",
        "  print(linha)"
      ],
      "metadata": {
        "colab": {
          "base_uri": "https://localhost:8080/"
        },
        "id": "PARLFXeyaGEo",
        "outputId": "8f1a3503-9563-49f8-ce70-7e75f8707ddf"
      },
      "execution_count": null,
      "outputs": [
        {
          "output_type": "stream",
          "name": "stdout",
          "text": [
            "Roda Viva\n",
            "\n",
            "Chico Buarque\n",
            "\n",
            "Tem dias que a gente se sente\n",
            "\n",
            "Como quem partiu ou morreu\n",
            "\n",
            "A gente estancou de repente\n",
            "\n",
            "Ou foi o mundo então que cresceu\n",
            "\n",
            "A gente quer ter voz ativa\n",
            "\n",
            "No nosso destino mandar\n",
            "\n",
            "Mas eis que chega a roda viva\n",
            "\n",
            "E carrega o destino pra lá\n",
            "\n",
            "Roda mundo, roda-gigante\n",
            "\n",
            "Roda moinho, roda pião\n",
            "\n",
            "O tempo rodou num instante\n",
            "\n",
            "Nas voltas do meu coração\n",
            "\n",
            "A gente vai contra a corrente\n",
            "\n",
            "Até não poder resistir\n",
            "\n",
            "Na volta do barco é que sente\n",
            "\n",
            "O quanto deixou de cumprir\n",
            "\n",
            "Faz tempo que a gente cultiva\n",
            "\n",
            "A mais linda roseira que há\n",
            "\n",
            "Mas eis que chega a roda viva\n",
            "\n",
            "E carrega a roseira pra lá\n",
            "\n",
            "Roda mundo, roda-gigante\n",
            "\n",
            "Roda moinho, roda pião\n",
            "\n"
          ]
        }
      ]
    },
    {
      "cell_type": "code",
      "source": [
        "def extrair_verso(arquivo=str, numero_linha=int) -> str:\n",
        "\n",
        "  try: # Uso o método try e except para evitar um erro no meu código, ao mesmo tempo\n",
        "       # em que ele me fala, por meio do except, qual foi esse.\n",
        "\n",
        "    verso_extraido = [] # Cria uma lista dos versos extraidos.\n",
        "\n",
        "    with open(file=arquivo, mode=\"r\", encoding=\"utf8\") as arquivo: # função para abrir o arquivo txt.\n",
        "\n",
        "      linha = arquivo.readline() # Leio o título da música.\n",
        "      linha = arquivo.readline() # Leio o nome do cantor.\n",
        "      linha = arquivo.readline() # Leio o primeiro verso.\n",
        "\n",
        "      while linha: # Crio um laço while, como forma de ler linha a linha.\n",
        "\n",
        "        verso_separado = linha.split(sep=\"\\n\") # Separo as linhas ou versos pela vírgula.\n",
        "\n",
        "        verso_separado = verso_separado[numero_linha - 1] # Seleciono o número do verso que quero.\n",
        "        verso_separado = str(verso_separado) # Defino-o em formato string.\n",
        "        verso_extraido.append(verso_separado) # Adiciono à lista verso_extaido.\n",
        "        linha = arquivo.readline() # Leio uma nova linha até que não haja mais nenhuma.\n",
        "\n",
        "        print(f\"O verso selecionado é: {verso_extraido}\")\n",
        "\n",
        "\n",
        "\n",
        "  except Exception as exc:\n",
        "    print(exc)"
      ],
      "metadata": {
        "id": "nWvDv-LmaJwB"
      },
      "execution_count": null,
      "outputs": []
    },
    {
      "cell_type": "code",
      "source": [
        "arquivo = \"musica.txt\"\n",
        "linha = 10\n",
        "\n",
        "verso = extrair_verso(arquivo=arquivo, numero_linha=linha)\n",
        "verso"
      ],
      "metadata": {
        "colab": {
          "base_uri": "https://localhost:8080/"
        },
        "id": "sjUIyGrzc3Vw",
        "outputId": "979004a5-f846-45bd-a700-75a9fe7b02ed"
      },
      "execution_count": null,
      "outputs": [
        {
          "output_type": "stream",
          "name": "stdout",
          "text": [
            "list index out of range\n"
          ]
        }
      ]
    },
    {
      "cell_type": "code",
      "source": [],
      "metadata": {
        "id": "XgSBxb3OdjEY"
      },
      "execution_count": null,
      "outputs": []
    }
  ]
}